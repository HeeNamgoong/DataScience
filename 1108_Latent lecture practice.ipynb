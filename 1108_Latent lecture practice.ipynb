{
 "cells": [
  {
   "cell_type": "code",
   "execution_count": 4,
   "metadata": {},
   "outputs": [],
   "source": [
    "import torch\n",
    "import torch.nn as nn\n",
    "import matplotlib.pyplot as plt\n",
    "import pandas as pd"
   ]
  },
  {
   "cell_type": "code",
   "execution_count": 5,
   "metadata": {},
   "outputs": [],
   "source": [
    "# 파일에서의 구분자 : 탭 / 순서 : user item(movie) rating timestamp\n",
    "\n",
    "train = pd.read_csv(\"ml-100k/ml-100k/ua.base\",  sep=\"\\t\", names=['user', 'item', 'rating', 'timestamp'])\n",
    "test = pd.read_csv(\"ml-100k/ml-100k/ua.test\",  sep=\"\\t\", names=['user', 'item', 'rating', 'timestamp'])"
   ]
  },
  {
   "cell_type": "code",
   "execution_count": 6,
   "metadata": {},
   "outputs": [],
   "source": [
    "items = torch.LongTensor(train['item'])\n",
    "users = torch.LongTensor(train['user'])\n",
    "ratings = torch.FloatTensor(train['rating'])\n",
    "\n",
    "items_test = torch.LongTensor(test['item'])\n",
    "users_test = torch.LongTensor(test['user'])\n",
    "ratings_test = torch.FloatTensor(test['rating'])"
   ]
  },
  {
   "cell_type": "code",
   "execution_count": 7,
   "metadata": {},
   "outputs": [
    {
     "name": "stdout",
     "output_type": "stream",
     "text": [
      "torch.Size([90570])\n",
      "torch.Size([90570])\n",
      "torch.Size([90570])\n"
     ]
    }
   ],
   "source": [
    "print(items.shape)\n",
    "print(users.shape)\n",
    "print(ratings.shape)\n",
    "\n",
    "# m*n 벡터가 있을 때, n을 다른 말로 rank 라고도 부름. rank 커지면 메모리 차지 많이 함."
   ]
  },
  {
   "cell_type": "code",
   "execution_count": 8,
   "metadata": {},
   "outputs": [],
   "source": [
    "rank = 10\n",
    "lambda1 = 0.1 # 가중치\n",
    "lambda2 = 0.1\n",
    "lambda3 = 0.1\n",
    "lambda4 = 0.1\n",
    "\n",
    "\n",
    "numItems = items.max() + 1\n",
    "numUsers = users.max() + 1\n",
    "\n",
    "mean = ratings.mean()\n",
    "\n",
    "P = torch.randn(numItems, rank, requires_grad=True) # gradient 방법으로 update\n",
    "Q = torch.randn(numUsers, rank, requires_grad=True)\n",
    "bias_item = torch.randn(numItems, requires_grad=True)\n",
    "bias_user = torch.randn(numUsers, requires_grad=True)"
   ]
  },
  {
   "cell_type": "code",
   "execution_count": 9,
   "metadata": {},
   "outputs": [
    {
     "name": "stdout",
     "output_type": "stream",
     "text": [
      "epoch: 0, cost: 13.205043, cost_test : 10.292853355407715\n"
     ]
    },
    {
     "name": "stdout",
     "output_type": "stream",
     "text": [
      "epoch: 100, cost: 0.500953, cost_test : 1.1374777555465698\n",
      "epoch: 200, cost: 0.459348, cost_test : 1.1548783779144287\n",
      "epoch: 300, cost: 0.449076, cost_test : 1.1807873249053955\n",
      "epoch: 400, cost: 0.444428, cost_test : 1.176159143447876\n",
      "epoch: 500, cost: 0.441438, cost_test : 1.1843550205230713\n",
      "epoch: 600, cost: 0.439750, cost_test : 1.199392557144165\n",
      "epoch: 700, cost: 0.438924, cost_test : 1.2065670490264893\n",
      "epoch: 800, cost: 0.438535, cost_test : 1.2054523229599\n",
      "epoch: 900, cost: 0.437907, cost_test : 1.2122764587402344\n",
      "epoch: 1000, cost: 0.437302, cost_test : 1.218684434890747\n"
     ]
    },
    {
     "data": {
      "image/png": "[encoded data removed]",
      "text/plain": [
       "<Figure size 640x480 with 1 Axes>"
      ]
     },
     "metadata": {},
     "output_type": "display_data"
    }
   ],
   "source": [
    "mse = nn.MSELoss()\n",
    "optimizer = torch.optim.Adam([P, Q, bias_item, bias_user], lr= 0.1)\n",
    "\n",
    "X = []\n",
    "Y = []\n",
    "Y_test = []\n",
    "\n",
    "for epoch in range(1001):\n",
    "    h = torch. sum(P[items] * Q[users], dim=1) + mean + bias_item[items] + bias_user[users]\n",
    "    # h = (P[items] * Q[users]).sum(dim=1)\n",
    "    cost = mse(h, ratings)\n",
    "    cost_reg = cost + lambda1 * (P ** 2).mean() + lambda2 * (Q ** 2).mean() + lambda3 * (bias_item ** 2).mean() + lambda4 * (bias_user ** 2).mean() # regularization\n",
    "    \n",
    "    optimizer.zero_grad()\n",
    "    #cost.backward()\n",
    "    cost_reg.backward()\n",
    "    optimizer.step()\n",
    "    \n",
    "    with torch.no_grad():\n",
    "        X.append(epoch)\n",
    "        Y.append(cost.item())\n",
    "        \n",
    "        \n",
    "        \n",
    "        h_test = (P[items_test] * Q[users_test]).sum(dim=1) + mean + bias_item[items_test] + bias_user[users_test]\n",
    "        cost_test = mse(h_test, ratings_test)\n",
    "        \n",
    "        Y_test.append(cost_test.item())\n",
    "        \n",
    "        if epoch % 100 == 0:\n",
    "            print(\"epoch: {}, cost: {:.6f}, cost_test : {}\" .format(epoch, cost.item(), cost_test))\n",
    "            \n",
    "plt.plot(X, Y, label=\"train MSE\")\n",
    "plt.plot(X, Y_test, label=\"test MSE\")\n",
    "plt.legend() # 이름이 찍힘\n",
    "plt.show()\n",
    "\n",
    "\n",
    "# regularization 으로 overfitting이 조금 해결됐다. cost로 했을 때와, cost_reg로 했을 때 비교해보면 그래프가 올라가지 않음."
   ]
  },
  {
   "cell_type": "code",
   "execution_count": null,
   "metadata": {},
   "outputs": [],
   "source": []
  }
 ],
 "metadata": {
  "kernelspec": {
   "display_name": "Python 3",
   "language": "python",
   "name": "python3"
  },
  "language_info": {
   "codemirror_mode": {
    "name": "ipython",
    "version": 3
   },
   "file_extension": ".py",
   "mimetype": "text/x-python",
   "name": "python",
   "nbconvert_exporter": "python",
   "pygments_lexer": "ipython3",
   "version": "3.10.6"
  },
  "orig_nbformat": 4
 },
 "nbformat": 4,
 "nbformat_minor": 2
}
