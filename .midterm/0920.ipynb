{
 "cells": [
  {
   "cell_type": "code",
   "execution_count": 1,
   "metadata": {},
   "outputs": [
    {
     "name": "stdout",
     "output_type": "stream",
     "text": [
      "tensor([[1, 2],\n",
      "        [3, 4],\n",
      "        [5, 6]])\n",
      "<built-in method type of Tensor object at 0x0000029B67670590>\n",
      "torch.Size([3, 2])\n",
      "torch.Size([3, 2])\n",
      "2\n",
      "tensor([[[1., 2.],\n",
      "         [3., 4.]],\n",
      "\n",
      "        [[1., 2.],\n",
      "         [3., 4.]],\n",
      "\n",
      "        [[1., 2.],\n",
      "         [3., 4.]]])\n",
      "torch.Size([3, 2, 2])\n"
     ]
    }
   ],
   "source": [
    "import torch\n",
    "\n",
    "x = torch.tensor([[1, 2], [3, 4], [5, 6]])\n",
    "y = torch.FloatTensor([[[1, 2], [3, 4]], [[1, 2], [3, 4]], [[1, 2], [3, 4]]])\n",
    "\n",
    "print(x)\n",
    "print(x.type)\n",
    "print(x.size())\n",
    "print(x.shape)\n",
    "print(x.ndimension())\n",
    "\n",
    "print(y)\n",
    "print(y.shape)\n",
    "\n"
   ]
  },
  {
   "cell_type": "code",
   "execution_count": 2,
   "metadata": {},
   "outputs": [
    {
     "name": "stdout",
     "output_type": "stream",
     "text": [
      "torch.Size([3, 2, 2])\n",
      "tensor([[[1., 2.],\n",
      "         [3., 4.]],\n",
      "\n",
      "        [[1., 2.],\n",
      "         [3., 4.]],\n",
      "\n",
      "        [[1., 2.],\n",
      "         [3., 4.]]])\n",
      "tensor([[[[1., 2.],\n",
      "          [3., 4.]]],\n",
      "\n",
      "\n",
      "        [[[1., 2.],\n",
      "          [3., 4.]]],\n",
      "\n",
      "\n",
      "        [[[1., 2.],\n",
      "          [3., 4.]]]])\n"
     ]
    }
   ],
   "source": [
    "y = torch.FloatTensor([[[1, 2], [3, 4]], [[1, 2], [3, 4]], [[1, 2], [3, 4]]])\n",
    "\n",
    "\n",
    "\n",
    "print(y.shape)\n",
    "print(y)\n",
    "\n",
    "y.unsqueeze(0) # 0번째 위치에 새로운 차원을 추가, 프린트해보면 가장 바깥쪽에 대괄호 하나 더 늘어나있음\n",
    "\n",
    "y0 = y.unsqueeze(1)\n",
    "print(y0)"
   ]
  },
  {
   "cell_type": "code",
   "execution_count": 3,
   "metadata": {},
   "outputs": [],
   "source": [
    "x0 = x.unsqueeze(0) # [3, 2, 2] --> [1, 3, 2, 2]\n",
    "x1 = x.unsqueeze(1) # [3, 2, 2] --> [3, 1, 2, 2]\n",
    "x2 = x.unsqueeze(2) # [3, 2, 2] --> [3, 2, 1, 2]\n",
    "#x3 = x.unsqueeze(3) # [3, 2, 2] --> [3, 2, 2, 1]"
   ]
  },
  {
   "cell_type": "code",
   "execution_count": 4,
   "metadata": {},
   "outputs": [
    {
     "name": "stdout",
     "output_type": "stream",
     "text": [
      "tensor([[[1],\n",
      "         [2]],\n",
      "\n",
      "        [[3],\n",
      "         [4]],\n",
      "\n",
      "        [[5],\n",
      "         [6]]])\n"
     ]
    },
    {
     "data": {
      "text/plain": [
       "tensor([[[1],\n",
       "         [2]],\n",
       "\n",
       "        [[3],\n",
       "         [4]],\n",
       "\n",
       "        [[5],\n",
       "         [6]]])"
      ]
     },
     "execution_count": 4,
     "metadata": {},
     "output_type": "execute_result"
    }
   ],
   "source": [
    "x2.shape\n",
    "print(x2)\n",
    "x2.squeeze(0)"
   ]
  },
  {
   "cell_type": "code",
   "execution_count": 5,
   "metadata": {},
   "outputs": [
    {
     "name": "stdout",
     "output_type": "stream",
     "text": [
      "tensor([[1, 2],\n",
      "        [3, 4],\n",
      "        [5, 6]])\n"
     ]
    },
    {
     "ename": "RuntimeError",
     "evalue": "shape '[8]' is invalid for input of size 6",
     "output_type": "error",
     "traceback": [
      "\u001b[1;31m---------------------------------------------------------------------------\u001b[0m",
      "\u001b[1;31mRuntimeError\u001b[0m                              Traceback (most recent call last)",
      "\u001b[1;32mc:\\Users\\user\\OneDrive\\바탕 화면\\2023-2\\DataScience\\0920.ipynb Cell 5\u001b[0m line \u001b[0;36m3\n\u001b[0;32m      <a href='vscode-notebook-cell:/c%3A/Users/user/OneDrive/%EB%B0%94%ED%83%95%20%ED%99%94%EB%A9%B4/2023-2/DataScience/0920.ipynb#W4sZmlsZQ%3D%3D?line=0'>1</a>\u001b[0m \u001b[39mprint\u001b[39m(x)\n\u001b[1;32m----> <a href='vscode-notebook-cell:/c%3A/Users/user/OneDrive/%EB%B0%94%ED%83%95%20%ED%99%94%EB%A9%B4/2023-2/DataScience/0920.ipynb#W4sZmlsZQ%3D%3D?line=2'>3</a>\u001b[0m x\u001b[39m.\u001b[39;49mview(\u001b[39m8\u001b[39;49m)\n",
      "\u001b[1;31mRuntimeError\u001b[0m: shape '[8]' is invalid for input of size 6"
     ]
    }
   ],
   "source": [
    "print(x)\n",
    "\n",
    "x.view(8)"
   ]
  },
  {
   "cell_type": "code",
   "execution_count": null,
   "metadata": {},
   "outputs": [
    {
     "name": "stdout",
     "output_type": "stream",
     "text": [
      "tensor([[1.4172],\n",
      "        [3.2029],\n",
      "        [4.2452]])\n",
      "tensor([[1., 2.],\n",
      "        [3., 4.],\n",
      "        [5., 6.]])\n",
      "tensor([[0.1693, 0.5228]])\n",
      "tensor([[0.2022],\n",
      "        [0.6037],\n",
      "        [0.2618]])\n"
     ]
    }
   ],
   "source": [
    "x = torch.FloatTensor([[1, 2], [3, 4], [5, 6]])\n",
    "w = torch.rand(1,2, dtype=torch.float)\n",
    "b = torch.rand(3,1, dtype=torch.float)\n",
    "\n",
    "#torch.mm(x, w.T) # 행렬곱셈을 하기 위해 w를 전치행렬로 바꾸어준다. or t(w) 해도 됨.\n",
    "\n",
    "print(x @ w.T + b)\n",
    "\n",
    "print(x)\n",
    "print(w)\n",
    "print(b)"
   ]
  },
  {
   "cell_type": "code",
   "execution_count": null,
   "metadata": {},
   "outputs": [
    {
     "name": "stdout",
     "output_type": "stream",
     "text": [
      "tensor(18.)\n"
     ]
    }
   ],
   "source": [
    "w = torch.tensor(1.0, requires_grad=True)\n",
    "a = w*3\n",
    "l = a**2\n",
    "l.backward()\n",
    "print(w.grad)"
   ]
  },
  {
   "cell_type": "code",
   "execution_count": 6,
   "metadata": {},
   "outputs": [],
   "source": [
    "x_train=torch.FloatTensor([[1,2],[3,2],[3,7],[1,1],[1,0]])\n",
    "y_train=torch.FloatTensor([[4],[8],[23],[1],[-2]])\n",
    "\n",
    "w = torch.randn(2, 1)\n",
    "b = torch.randn(1)\n",
    "\n",
    "lr = 0.01"
   ]
  },
  {
   "cell_type": "code",
   "execution_count": 7,
   "metadata": {},
   "outputs": [
    {
     "name": "stdout",
     "output_type": "stream",
     "text": [
      "0 -118.6669692993164 tensor([-0.4138,  1.5517]) tensor([1.0537])\n",
      "100 -128.66697692871094 tensor([-2.2138, -0.8483]) tensor([0.0537])\n",
      "200 -138.6669464111328 tensor([-4.0137, -3.2483]) tensor([-0.9463])\n",
      "300 -148.66697692871094 tensor([-5.8138, -5.6483]) tensor([-1.9463])\n",
      "400 -158.6670684814453 tensor([-7.6138, -8.0483]) tensor([-2.9463])\n",
      "500 -168.6670379638672 tensor([ -9.4137, -10.4484]) tensor([-3.9463])\n",
      "600 -178.66705322265625 tensor([-11.2137, -12.8484]) tensor([-4.9463])\n",
      "700 -188.6670379638672 tensor([-13.0137, -15.2484]) tensor([-5.9463])\n",
      "800 -198.66705322265625 tensor([-14.8136, -17.6484]) tensor([-6.9463])\n",
      "900 -208.6670379638672 tensor([-16.6136, -20.0484]) tensor([-7.9464])\n",
      "1000 -218.6670379638672 tensor([-18.4136, -22.4484]) tensor([-8.9464])\n",
      "1100 -228.6670684814453 tensor([-20.2135, -24.8485]) tensor([-9.9464])\n",
      "1200 -238.6670379638672 tensor([-22.0135, -27.2485]) tensor([-10.9464])\n",
      "1300 -248.6670379638672 tensor([-23.8135, -29.6485]) tensor([-11.9464])\n",
      "1400 -258.66705322265625 tensor([-25.6134, -32.0485]) tensor([-12.9465])\n",
      "1500 -268.66656494140625 tensor([-27.4134, -34.4483]) tensor([-13.9465])\n",
      "1600 -278.6661071777344 tensor([-29.2134, -36.8481]) tensor([-14.9465])\n",
      "1700 -288.6656799316406 tensor([-31.0133, -39.2480]) tensor([-15.9465])\n",
      "1800 -298.6653747558594 tensor([-32.8134, -41.6478]) tensor([-16.9466])\n",
      "1900 -308.6652526855469 tensor([-34.6135, -44.0476]) tensor([-17.9466])\n",
      "2000 -318.6651306152344 tensor([-36.4137, -46.4475]) tensor([-18.9466])\n",
      "2100 -328.6650390625 tensor([-38.2138, -48.8473]) tensor([-19.9466])\n",
      "2200 -338.6648864746094 tensor([-40.0140, -51.2471]) tensor([-20.9467])\n",
      "2300 -348.6647644042969 tensor([-41.8142, -53.6469]) tensor([-21.9467])\n",
      "2400 -358.6646728515625 tensor([-43.6143, -56.0468]) tensor([-22.9467])\n",
      "2500 -368.66455078125 tensor([-45.4145, -58.4466]) tensor([-23.9467])\n",
      "2600 -378.6644592285156 tensor([-47.2146, -60.8464]) tensor([-24.9467])\n",
      "2700 -388.664306640625 tensor([-49.0148, -63.2462]) tensor([-25.9468])\n",
      "2800 -398.66485595703125 tensor([-50.8149, -65.6463]) tensor([-26.9468])\n",
      "2900 -408.6656188964844 tensor([-52.6151, -68.0465]) tensor([-27.9468])\n",
      "3000 -418.6664123535156 tensor([-54.4152, -70.4467]) tensor([-28.9468])\n"
     ]
    }
   ],
   "source": [
    "for epoch in range(3001):\n",
    "    w.requires_grad_(True)\n",
    "    b.requires_grad_(True)\n",
    "    \n",
    "    h = x_train @ w + b\n",
    "    cost = (h - y_train ** 2).mean() # 평균\n",
    "    cost.backward()\n",
    "    \n",
    "    with torch.no_grad():\n",
    "        w = w - lr * w.grad\n",
    "        b = b - lr * b.grad\n",
    "        \n",
    "        if epoch % 100 == 0:\n",
    "            print(epoch, cost.item(), w.squeeze(), b)\n",
    "\n",
    "    "
   ]
  },
  {
   "cell_type": "code",
   "execution_count": null,
   "metadata": {},
   "outputs": [],
   "source": []
  },
  {
   "cell_type": "code",
   "execution_count": 9,
   "metadata": {},
   "outputs": [],
   "source": [
    "from sklearn.linear_model import LinearRegression"
   ]
  },
  {
   "cell_type": "code",
   "execution_count": null,
   "metadata": {},
   "outputs": [],
   "source": []
  }
 ],
 "metadata": {
  "kernelspec": {
   "display_name": "Python 3",
   "language": "python",
   "name": "python3"
  },
  "language_info": {
   "codemirror_mode": {
    "name": "ipython",
    "version": 3
   },
   "file_extension": ".py",
   "mimetype": "text/x-python",
   "name": "python",
   "nbconvert_exporter": "python",
   "pygments_lexer": "ipython3",
   "version": "3.10.6"
  },
  "orig_nbformat": 4
 },
 "nbformat": 4,
 "nbformat_minor": 2
}
