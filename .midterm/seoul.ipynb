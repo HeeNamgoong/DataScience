{
 "cells": [
  {
   "cell_type": "code",
   "execution_count": 1,
   "metadata": {},
   "outputs": [
    {
     "name": "stdout",
     "output_type": "stream",
     "text": [
      "(32085, 14)\n"
     ]
    }
   ],
   "source": [
    "import pandas as pd\n",
    "\n",
    "data = pd.read_csv(\"gts-seoul.csv\")\n",
    "\n",
    "print(data.shape)"
   ]
  },
  {
   "cell_type": "code",
   "execution_count": 35,
   "metadata": {},
   "outputs": [
    {
     "data": {
      "text/html": [
       "<div>\n",
       "<style scoped>\n",
       "    .dataframe tbody tr th:only-of-type {\n",
       "        vertical-align: middle;\n",
       "    }\n",
       "\n",
       "    .dataframe tbody tr th {\n",
       "        vertical-align: top;\n",
       "    }\n",
       "\n",
       "    .dataframe thead th {\n",
       "        text-align: right;\n",
       "    }\n",
       "</style>\n",
       "<table border=\"1\" class=\"dataframe\">\n",
       "  <thead>\n",
       "    <tr style=\"text-align: right;\">\n",
       "      <th></th>\n",
       "      <th>지점</th>\n",
       "      <th>지점명</th>\n",
       "      <th>일시</th>\n",
       "      <th>습도</th>\n",
       "      <th>16 방위 풍향</th>\n",
       "      <th>풍속</th>\n",
       "      <th>강수량</th>\n",
       "      <th>현지기압</th>\n",
       "      <th>해면기압</th>\n",
       "      <th>변화량 기압</th>\n",
       "      <th>이슬점 온도</th>\n",
       "      <th>기온</th>\n",
       "      <th>최고 기온</th>\n",
       "      <th>최저 기온</th>\n",
       "    </tr>\n",
       "  </thead>\n",
       "  <tbody>\n",
       "    <tr>\n",
       "      <th>1939</th>\n",
       "      <td>47108</td>\n",
       "      <td>서울</td>\n",
       "      <td>2011-03-01 00:00</td>\n",
       "      <td>94.3</td>\n",
       "      <td>29.0</td>\n",
       "      <td>5.0</td>\n",
       "      <td>2.0</td>\n",
       "      <td>1005.5</td>\n",
       "      <td>1016.3</td>\n",
       "      <td>1.4</td>\n",
       "      <td>-0.9</td>\n",
       "      <td>-0.1</td>\n",
       "      <td>NaN</td>\n",
       "      <td>-0.2</td>\n",
       "    </tr>\n",
       "    <tr>\n",
       "      <th>1940</th>\n",
       "      <td>47108</td>\n",
       "      <td>서울</td>\n",
       "      <td>2011-03-01 03:00</td>\n",
       "      <td>84.0</td>\n",
       "      <td>29.0</td>\n",
       "      <td>5.0</td>\n",
       "      <td>NaN</td>\n",
       "      <td>1004.2</td>\n",
       "      <td>1014.9</td>\n",
       "      <td>1.4</td>\n",
       "      <td>-1.2</td>\n",
       "      <td>1.2</td>\n",
       "      <td>NaN</td>\n",
       "      <td>NaN</td>\n",
       "    </tr>\n",
       "    <tr>\n",
       "      <th>1941</th>\n",
       "      <td>47108</td>\n",
       "      <td>서울</td>\n",
       "      <td>2011-03-01 06:00</td>\n",
       "      <td>60.0</td>\n",
       "      <td>29.0</td>\n",
       "      <td>8.0</td>\n",
       "      <td>NaN</td>\n",
       "      <td>1002.9</td>\n",
       "      <td>1013.5</td>\n",
       "      <td>1.4</td>\n",
       "      <td>-4.0</td>\n",
       "      <td>3.0</td>\n",
       "      <td>NaN</td>\n",
       "      <td>NaN</td>\n",
       "    </tr>\n",
       "    <tr>\n",
       "      <th>1942</th>\n",
       "      <td>47108</td>\n",
       "      <td>서울</td>\n",
       "      <td>2011-03-01 09:00</td>\n",
       "      <td>57.3</td>\n",
       "      <td>27.0</td>\n",
       "      <td>7.0</td>\n",
       "      <td>NaN</td>\n",
       "      <td>1003.1</td>\n",
       "      <td>1013.7</td>\n",
       "      <td>0.2</td>\n",
       "      <td>-4.7</td>\n",
       "      <td>2.9</td>\n",
       "      <td>NaN</td>\n",
       "      <td>NaN</td>\n",
       "    </tr>\n",
       "    <tr>\n",
       "      <th>1943</th>\n",
       "      <td>47108</td>\n",
       "      <td>서울</td>\n",
       "      <td>2011-03-01 12:00</td>\n",
       "      <td>55.0</td>\n",
       "      <td>29.0</td>\n",
       "      <td>5.0</td>\n",
       "      <td>0.0</td>\n",
       "      <td>1006.2</td>\n",
       "      <td>1017.0</td>\n",
       "      <td>3.3</td>\n",
       "      <td>-8.9</td>\n",
       "      <td>-1.0</td>\n",
       "      <td>3.7</td>\n",
       "      <td>NaN</td>\n",
       "    </tr>\n",
       "    <tr>\n",
       "      <th>...</th>\n",
       "      <td>...</td>\n",
       "      <td>...</td>\n",
       "      <td>...</td>\n",
       "      <td>...</td>\n",
       "      <td>...</td>\n",
       "      <td>...</td>\n",
       "      <td>...</td>\n",
       "      <td>...</td>\n",
       "      <td>...</td>\n",
       "      <td>...</td>\n",
       "      <td>...</td>\n",
       "      <td>...</td>\n",
       "      <td>...</td>\n",
       "      <td>...</td>\n",
       "    </tr>\n",
       "    <tr>\n",
       "      <th>2182</th>\n",
       "      <td>47108</td>\n",
       "      <td>서울</td>\n",
       "      <td>2011-03-31 09:00</td>\n",
       "      <td>35.1</td>\n",
       "      <td>27.0</td>\n",
       "      <td>6.0</td>\n",
       "      <td>NaN</td>\n",
       "      <td>1010.7</td>\n",
       "      <td>1020.9</td>\n",
       "      <td>0.1</td>\n",
       "      <td>-1.6</td>\n",
       "      <td>13.5</td>\n",
       "      <td>NaN</td>\n",
       "      <td>NaN</td>\n",
       "    </tr>\n",
       "    <tr>\n",
       "      <th>2183</th>\n",
       "      <td>47108</td>\n",
       "      <td>서울</td>\n",
       "      <td>2011-03-31 12:00</td>\n",
       "      <td>50.1</td>\n",
       "      <td>27.0</td>\n",
       "      <td>7.0</td>\n",
       "      <td>NaN</td>\n",
       "      <td>1011.7</td>\n",
       "      <td>1022.2</td>\n",
       "      <td>1.3</td>\n",
       "      <td>-1.3</td>\n",
       "      <td>8.5</td>\n",
       "      <td>16.8</td>\n",
       "      <td>NaN</td>\n",
       "    </tr>\n",
       "    <tr>\n",
       "      <th>2184</th>\n",
       "      <td>47108</td>\n",
       "      <td>서울</td>\n",
       "      <td>2011-03-31 15:00</td>\n",
       "      <td>55.0</td>\n",
       "      <td>27.0</td>\n",
       "      <td>4.0</td>\n",
       "      <td>NaN</td>\n",
       "      <td>1012.1</td>\n",
       "      <td>1022.6</td>\n",
       "      <td>0.4</td>\n",
       "      <td>-1.5</td>\n",
       "      <td>6.9</td>\n",
       "      <td>NaN</td>\n",
       "      <td>NaN</td>\n",
       "    </tr>\n",
       "    <tr>\n",
       "      <th>2185</th>\n",
       "      <td>47108</td>\n",
       "      <td>서울</td>\n",
       "      <td>2011-03-31 18:00</td>\n",
       "      <td>66.3</td>\n",
       "      <td>32.0</td>\n",
       "      <td>2.0</td>\n",
       "      <td>NaN</td>\n",
       "      <td>1011.5</td>\n",
       "      <td>1022.1</td>\n",
       "      <td>0.5</td>\n",
       "      <td>0.0</td>\n",
       "      <td>5.8</td>\n",
       "      <td>NaN</td>\n",
       "      <td>NaN</td>\n",
       "    </tr>\n",
       "    <tr>\n",
       "      <th>2186</th>\n",
       "      <td>47108</td>\n",
       "      <td>서울</td>\n",
       "      <td>2011-03-31 21:00</td>\n",
       "      <td>72.0</td>\n",
       "      <td>2.0</td>\n",
       "      <td>2.0</td>\n",
       "      <td>NaN</td>\n",
       "      <td>1011.5</td>\n",
       "      <td>1022.1</td>\n",
       "      <td>0.0</td>\n",
       "      <td>-0.1</td>\n",
       "      <td>4.5</td>\n",
       "      <td>NaN</td>\n",
       "      <td>NaN</td>\n",
       "    </tr>\n",
       "  </tbody>\n",
       "</table>\n",
       "<p>248 rows × 14 columns</p>\n",
       "</div>"
      ],
      "text/plain": [
       "         지점 지점명                일시    습도  16 방위 풍향   풍속  강수량    현지기압    해면기압  \\\n",
       "1939  47108  서울  2011-03-01 00:00  94.3      29.0  5.0  2.0  1005.5  1016.3   \n",
       "1940  47108  서울  2011-03-01 03:00  84.0      29.0  5.0  NaN  1004.2  1014.9   \n",
       "1941  47108  서울  2011-03-01 06:00  60.0      29.0  8.0  NaN  1002.9  1013.5   \n",
       "1942  47108  서울  2011-03-01 09:00  57.3      27.0  7.0  NaN  1003.1  1013.7   \n",
       "1943  47108  서울  2011-03-01 12:00  55.0      29.0  5.0  0.0  1006.2  1017.0   \n",
       "...     ...  ..               ...   ...       ...  ...  ...     ...     ...   \n",
       "2182  47108  서울  2011-03-31 09:00  35.1      27.0  6.0  NaN  1010.7  1020.9   \n",
       "2183  47108  서울  2011-03-31 12:00  50.1      27.0  7.0  NaN  1011.7  1022.2   \n",
       "2184  47108  서울  2011-03-31 15:00  55.0      27.0  4.0  NaN  1012.1  1022.6   \n",
       "2185  47108  서울  2011-03-31 18:00  66.3      32.0  2.0  NaN  1011.5  1022.1   \n",
       "2186  47108  서울  2011-03-31 21:00  72.0       2.0  2.0  NaN  1011.5  1022.1   \n",
       "\n",
       "      변화량 기압  이슬점 온도    기온  최고 기온  최저 기온  \n",
       "1939     1.4    -0.9  -0.1    NaN   -0.2  \n",
       "1940     1.4    -1.2   1.2    NaN    NaN  \n",
       "1941     1.4    -4.0   3.0    NaN    NaN  \n",
       "1942     0.2    -4.7   2.9    NaN    NaN  \n",
       "1943     3.3    -8.9  -1.0    3.7    NaN  \n",
       "...      ...     ...   ...    ...    ...  \n",
       "2182     0.1    -1.6  13.5    NaN    NaN  \n",
       "2183     1.3    -1.3   8.5   16.8    NaN  \n",
       "2184     0.4    -1.5   6.9    NaN    NaN  \n",
       "2185     0.5     0.0   5.8    NaN    NaN  \n",
       "2186     0.0    -0.1   4.5    NaN    NaN  \n",
       "\n",
       "[248 rows x 14 columns]"
      ]
     },
     "execution_count": 35,
     "metadata": {},
     "output_type": "execute_result"
    }
   ],
   "source": [
    "# for i in range(len(data)):\n",
    "#     print(data[\"일시\"][i][:10])\n",
    "#     if i == 10:\n",
    "#         break\n",
    "    \n",
    "data.loc[data['일시'].str.contains('2011-03')]"
   ]
  },
  {
   "cell_type": "code",
   "execution_count": 41,
   "metadata": {},
   "outputs": [
    {
     "data": {
      "text/plain": [
       "2101    1038.9\n",
       "dtype: float64"
      ]
     },
     "execution_count": 41,
     "metadata": {},
     "output_type": "execute_result"
    }
   ],
   "source": [
    "# 문제 1. 데이터 불러오기 #\n",
    "\n",
    "spec = data.loc[data[\"일시\"] == \"2011-03-21 06:00\", [\"습도\", \"풍속\", \"현지기압\", \"기온\", \"이슬점 온도\"]]\n",
    "spec[\"습도\"] + spec[\"풍속\"] + spec[\"현지기압\"] + spec[\"기온\"] + spec[\"이슬점 온도\"]\n",
    "\n",
    "\n",
    "# spec = data.loc[data[\"일시\"] == \"2011-03-21 06:00\"]\n",
    "# spec[[\"습도\", \"풍속\", \"현지기압\", \"기온\", \"이슬점 온도\"]]"
   ]
  },
  {
   "cell_type": "code",
   "execution_count": 3,
   "metadata": {},
   "outputs": [
    {
     "name": "stdout",
     "output_type": "stream",
     "text": [
      "32128.421619683173\n"
     ]
    }
   ],
   "source": [
    "# 문제 2. 데이터 전처리하기 #\n",
    "data_process_before = data[[\"습도\", \"풍속\", \"현지기압\", \"기온\", \"이슬점 온도\"]]\n",
    "\n",
    "\n",
    "data_process_after = data_process_before.dropna(axis=0)\n",
    "\n",
    "row = data_process_after.shape[0]\n",
    "humidity_avg = (data_process_after[\"습도\"]).mean()\n",
    "max_windspeed = (data_process_after[\"풍속\"]).max()\n",
    "min_temparature = (data_process_after[\"기온\"]).min()\n",
    "\n",
    "ans = row + humidity_avg + max_windspeed + min_temparature\n",
    "\n",
    "print(ans)"
   ]
  },
  {
   "cell_type": "code",
   "execution_count": 4,
   "metadata": {},
   "outputs": [
    {
     "name": "stdout",
     "output_type": "stream",
     "text": [
      "1.1792022126818176\n"
     ]
    }
   ],
   "source": [
    "# 문제 3-1. 상관계수 구하기 #\n",
    "\n",
    "X = data_process_after[\"이슬점 온도\"]\n",
    "\n",
    "\n",
    "a = X.corr(data[\"습도\"])\n",
    "b = X.corr(data[\"풍속\"])\n",
    "c = X.corr(data[\"현지기압\"])\n",
    "d = X.corr(data[\"기온\"])\n",
    "\n",
    "print(a + b + c + d)\n",
    "\n",
    "\n",
    "# corr 직접 구현\n",
    "# def corr(a, b):\n",
    "#     a = a - a.mean()\n",
    "#     b = b - b.mean()\n",
    "    \n",
    "#     return (a * b).sum() / ( (a*a).sum() * (b*b).sum()) ** 0.5 # a내적b  / |a||b|\n",
    "\n",
    "# a = corr(data['습도'], data['이슬점 온도'])"
   ]
  },
  {
   "cell_type": "code",
   "execution_count": 47,
   "metadata": {},
   "outputs": [
    {
     "name": "stderr",
     "output_type": "stream",
     "text": [
      "No artists with labels found to put in legend.  Note that artists whose label start with an underscore are ignored when legend() is called with no argument.\n",
      "No artists with labels found to put in legend.  Note that artists whose label start with an underscore are ignored when legend() is called with no argument.\n"
     ]
    },
    {
     "name": "stderr",
     "output_type": "stream",
     "text": [
      "No artists with labels found to put in legend.  Note that artists whose label start with an underscore are ignored when legend() is called with no argument.\n",
      "No artists with labels found to put in legend.  Note that artists whose label start with an underscore are ignored when legend() is called with no argument.\n"
     ]
    },
    {
     "data": {
      "text/plain": [
       "<matplotlib.legend.Legend at 0x2c0ebf43340>"
      ]
     },
     "execution_count": 47,
     "metadata": {},
     "output_type": "execute_result"
    },
    {
     "data": {
      "image/png": "[encoded data removed]",
      "text/plain": [
       "<Figure size 640x480 with 4 Axes>"
      ]
     },
     "metadata": {},
     "output_type": "display_data"
    }
   ],
   "source": [
    "# 문제 3-2. 산점도(Scatter plot) 그리기 #\n",
    "\n",
    "import matplotlib.pyplot as plt\n",
    "\n",
    "x = data_process_after[\"습도\"]\n",
    "y = data_process_after[\"이슬점 온도\"]\n",
    "plt.subplot(2,2,1)\n",
    "plt.scatter(x, y)\n",
    "plt.legend()\n",
    "\n",
    "plt.subplot(2,2,2)\n",
    "x = data_process_after[\"풍속\"]\n",
    "plt.scatter(x, y)\n",
    "plt.legend()\n",
    "\n",
    "plt.subplot(2,2,3)\n",
    "x = data_process_after[\"현지기압\"]\n",
    "plt.scatter(x, y)\n",
    "plt.legend()\n",
    "\n",
    "plt.subplot(2,2,4)\n",
    "x = data_process_after[\"기온\"]\n",
    "plt.scatter(x, y)\n",
    "plt.legend()\n",
    "#plt.show()\n",
    "\n"
   ]
  },
  {
   "cell_type": "code",
   "execution_count": null,
   "metadata": {},
   "outputs": [],
   "source": []
  },
  {
   "cell_type": "code",
   "execution_count": 6,
   "metadata": {},
   "outputs": [
    {
     "data": {
      "text/plain": [
       "(32027, 5)"
      ]
     },
     "execution_count": 6,
     "metadata": {},
     "output_type": "execute_result"
    }
   ],
   "source": [
    "# 문제 3-3. 이상치 제거 #\n",
    "\n",
    "\n",
    "df = data_process_after[data_process_after[\"현지기압\"] >= 200]\n",
    "# df = data_process_after[data_process_after[\"현지기압\"] < 200 == False]\n",
    "\n",
    "df.shape"
   ]
  },
  {
   "cell_type": "code",
   "execution_count": 7,
   "metadata": {},
   "outputs": [
    {
     "name": "stdout",
     "output_type": "stream",
     "text": [
      "0.6187252015474827\n"
     ]
    }
   ],
   "source": [
    "# 문제 3-4. 상관계수 다시 계산 #\n",
    "\n",
    "\n",
    "X = df[\"이슬점 온도\"]\n",
    "\n",
    "\n",
    "a = X.corr(df[\"습도\"])\n",
    "b = X.corr(df[\"풍속\"])\n",
    "c = X.corr(df[\"현지기압\"])\n",
    "d = X.corr(df[\"기온\"])\n",
    "\n",
    "\n",
    "print(a + b + c + d)"
   ]
  },
  {
   "cell_type": "code",
   "execution_count": 45,
   "metadata": {},
   "outputs": [
    {
     "name": "stderr",
     "output_type": "stream",
     "text": [
      "No artists with labels found to put in legend.  Note that artists whose label start with an underscore are ignored when legend() is called with no argument.\n",
      "No artists with labels found to put in legend.  Note that artists whose label start with an underscore are ignored when legend() is called with no argument.\n"
     ]
    },
    {
     "name": "stderr",
     "output_type": "stream",
     "text": [
      "No artists with labels found to put in legend.  Note that artists whose label start with an underscore are ignored when legend() is called with no argument.\n",
      "No artists with labels found to put in legend.  Note that artists whose label start with an underscore are ignored when legend() is called with no argument.\n"
     ]
    },
    {
     "data": {
      "text/plain": [
       "(-20.445, 42.144999999999996, -33.375, 29.875)"
      ]
     },
     "execution_count": 45,
     "metadata": {},
     "output_type": "execute_result"
    },
    {
     "data": {
      "image/png": "[encoded data removed]",
      "text/plain": [
       "<Figure size 640x480 with 4 Axes>"
      ]
     },
     "metadata": {},
     "output_type": "display_data"
    }
   ],
   "source": [
    "# 문제 3-5. 산점도(Scatter plot) 다시 그리기 #\n",
    "\n",
    "# 문제 3-2. 산점도(Scatter plot) 그리기 #\n",
    "\n",
    "import matplotlib.pyplot as plt\n",
    "\n",
    "x = df[\"습도\"]\n",
    "y = df[\"이슬점 온도\"]\n",
    "plt.subplot(2,2,1)\n",
    "plt.scatter(x, y)\n",
    "plt.legend()\n",
    "\n",
    "plt.subplot(2,2,2)\n",
    "x = df[\"풍속\"]\n",
    "plt.scatter(x, y)\n",
    "plt.legend()\n",
    "\n",
    "plt.subplot(2,2,3)\n",
    "x = df[\"현지기압\"]\n",
    "plt.scatter(x, y)\n",
    "plt.legend()\n",
    "\n",
    "plt.subplot(2,2,4)\n",
    "x = df[\"기온\"]\n",
    "plt.scatter(x, y)\n",
    "plt.legend()\n",
    "\n",
    "plt.axis('off')\n",
    "\n",
    "\n"
   ]
  },
  {
   "cell_type": "code",
   "execution_count": 49,
   "metadata": {},
   "outputs": [
    {
     "name": "stdout",
     "output_type": "stream",
     "text": [
      "W [[ 0.2676329  -0.03078923  0.00952646  0.92936961]] , b [-32.91662937]\n"
     ]
    }
   ],
   "source": [
    "# 문제 4-1. 이슬점 온도 계산 공식 구하기 #\n",
    "\n",
    "from sklearn.linear_model import LinearRegression\n",
    "from sklearn.metrics import mean_squared_error\n",
    "import torch\n",
    "\n",
    "\n",
    "\n",
    "# x = pd.DataFrame(df, columns=['습도', '풍속', '현지기압', '기온'])\n",
    "# y = pd.DataFrame(df, columns=['이슬점 온도'])\n",
    "\n",
    "# x = torch.tensor(x.values)\n",
    "# y = torch.tensor(y.values)\n",
    "\n",
    "# x = x.view(-1, 4)\n",
    "\n",
    "x = df[['습도', '풍속', '현지기압', '기온']]\n",
    "y = df[['이슬점 온도']]\n",
    "\n",
    "\n",
    "\n",
    "lr = LinearRegression()\n",
    "lr.fit(x, y)\n",
    "\n",
    "print(\"W\", lr.coef_, \", b\", lr.intercept_)\n",
    "\n",
    "\n",
    "y_pred = lr.predict(x)\n",
    "\n"
   ]
  },
  {
   "cell_type": "code",
   "execution_count": 10,
   "metadata": {},
   "outputs": [
    {
     "name": "stdout",
     "output_type": "stream",
     "text": [
      "평균제곱오차: 1.168514629572586\n"
     ]
    }
   ],
   "source": [
    "# 문제 4-2. 이슬점 온도 계산 공식 구하기 #\n",
    "\n",
    "mse = mean_squared_error(y, y_pred)\n",
    "print(\"평균제곱오차:\", mse)"
   ]
  },
  {
   "cell_type": "code",
   "execution_count": 11,
   "metadata": {},
   "outputs": [
    {
     "ename": "TypeError",
     "evalue": "mm(): argument 'input' (position 1) must be Tensor, not DataFrame",
     "output_type": "error",
     "traceback": [
      "\u001b[1;31m---------------------------------------------------------------------------\u001b[0m",
      "\u001b[1;31mTypeError\u001b[0m                                 Traceback (most recent call last)",
      "\u001b[1;32mc:\\Users\\user\\OneDrive\\바탕 화면\\2023-2\\DataScience\\seoul.ipynb Cell 12\u001b[0m line \u001b[0;36m1\n\u001b[0;32m      <a href='vscode-notebook-cell:/c%3A/Users/user/OneDrive/%EB%B0%94%ED%83%95%20%ED%99%94%EB%A9%B4/2023-2/DataScience/seoul.ipynb#X14sZmlsZQ%3D%3D?line=8'>9</a>\u001b[0m W\u001b[39m.\u001b[39mrequires_grad_(\u001b[39mTrue\u001b[39;00m)\n\u001b[0;32m     <a href='vscode-notebook-cell:/c%3A/Users/user/OneDrive/%EB%B0%94%ED%83%95%20%ED%99%94%EB%A9%B4/2023-2/DataScience/seoul.ipynb#X14sZmlsZQ%3D%3D?line=9'>10</a>\u001b[0m b\u001b[39m.\u001b[39mrequires_grad_(\u001b[39mTrue\u001b[39;00m)\n\u001b[1;32m---> <a href='vscode-notebook-cell:/c%3A/Users/user/OneDrive/%EB%B0%94%ED%83%95%20%ED%99%94%EB%A9%B4/2023-2/DataScience/seoul.ipynb#X14sZmlsZQ%3D%3D?line=11'>12</a>\u001b[0m h \u001b[39m=\u001b[39m torch\u001b[39m.\u001b[39;49mmm(x, W) \u001b[39m+\u001b[39m b\n\u001b[0;32m     <a href='vscode-notebook-cell:/c%3A/Users/user/OneDrive/%EB%B0%94%ED%83%95%20%ED%99%94%EB%A9%B4/2023-2/DataScience/seoul.ipynb#X14sZmlsZQ%3D%3D?line=12'>13</a>\u001b[0m cost \u001b[39m=\u001b[39m torch\u001b[39m.\u001b[39mmean((h \u001b[39m-\u001b[39m y) \u001b[39m*\u001b[39m\u001b[39m*\u001b[39m \u001b[39m2\u001b[39m)\n\u001b[0;32m     <a href='vscode-notebook-cell:/c%3A/Users/user/OneDrive/%EB%B0%94%ED%83%95%20%ED%99%94%EB%A9%B4/2023-2/DataScience/seoul.ipynb#X14sZmlsZQ%3D%3D?line=14'>15</a>\u001b[0m cost\u001b[39m.\u001b[39mbackward()\n",
      "\u001b[1;31mTypeError\u001b[0m: mm(): argument 'input' (position 1) must be Tensor, not DataFrame"
     ]
    }
   ],
   "source": [
    "# Linear Regression\n",
    "\n",
    "W = torch.zeros(4,1)\n",
    "b = torch.zeros(1)\n",
    "\n",
    "lr = 0.01 # learning rate\n",
    "\n",
    "for epoch in range(3001):\n",
    "  W.requires_grad_(True)\n",
    "  b.requires_grad_(True)\n",
    "\n",
    "  h = torch.mm(x, W) + b\n",
    "  cost = torch.mean((h - y) ** 2)\n",
    "  \n",
    "  cost.backward()\n",
    "  with torch.no_grad():\n",
    "    W = W - lr * W.grad\n",
    "    b = b - lr * b.grad\n",
    "\n",
    "    if epoch % 100 == 0:\n",
    "      print( 'epoch: {}, cost: {:.6f}, W: {}, b: {}'.format(epoch,\n",
    " cost.item(), W.squeeze(), b))\n",
    "      \n",
    "  \n",
    "test_x = torch.randn((10, 4))  # Example test data\n",
    "predicted_y = torch.mm(test_x, W) + b\n",
    "print('Predicted values:', predicted_y.squeeze().detach().numpy())"
   ]
  },
  {
   "cell_type": "code",
   "execution_count": null,
   "metadata": {},
   "outputs": [
    {
     "data": {
      "text/html": [
       "<div>\n",
       "<style scoped>\n",
       "    .dataframe tbody tr th:only-of-type {\n",
       "        vertical-align: middle;\n",
       "    }\n",
       "\n",
       "    .dataframe tbody tr th {\n",
       "        vertical-align: top;\n",
       "    }\n",
       "\n",
       "    .dataframe thead th {\n",
       "        text-align: right;\n",
       "    }\n",
       "</style>\n",
       "<table border=\"1\" class=\"dataframe\">\n",
       "  <thead>\n",
       "    <tr style=\"text-align: right;\">\n",
       "      <th></th>\n",
       "      <th>습도</th>\n",
       "      <th>풍속</th>\n",
       "      <th>현지기압</th>\n",
       "      <th>기온</th>\n",
       "    </tr>\n",
       "  </thead>\n",
       "  <tbody>\n",
       "    <tr>\n",
       "      <th>0</th>\n",
       "      <td>18.849238</td>\n",
       "      <td>-0.106325</td>\n",
       "      <td>0.138025</td>\n",
       "      <td>23.118222</td>\n",
       "    </tr>\n",
       "    <tr>\n",
       "      <th>1</th>\n",
       "      <td>16.476420</td>\n",
       "      <td>-0.106325</td>\n",
       "      <td>0.137872</td>\n",
       "      <td>25.799936</td>\n",
       "    </tr>\n",
       "    <tr>\n",
       "      <th>2</th>\n",
       "      <td>13.250454</td>\n",
       "      <td>-0.106325</td>\n",
       "      <td>0.137651</td>\n",
       "      <td>28.204231</td>\n",
       "    </tr>\n",
       "    <tr>\n",
       "      <th>3</th>\n",
       "      <td>17.809464</td>\n",
       "      <td>-0.212650</td>\n",
       "      <td>0.137623</td>\n",
       "      <td>26.632192</td>\n",
       "    </tr>\n",
       "    <tr>\n",
       "      <th>4</th>\n",
       "      <td>21.222056</td>\n",
       "      <td>-0.141766</td>\n",
       "      <td>0.137803</td>\n",
       "      <td>24.320370</td>\n",
       "    </tr>\n",
       "    <tr>\n",
       "      <th>...</th>\n",
       "      <td>...</td>\n",
       "      <td>...</td>\n",
       "      <td>...</td>\n",
       "      <td>...</td>\n",
       "    </tr>\n",
       "    <tr>\n",
       "      <th>32080</th>\n",
       "      <td>17.516194</td>\n",
       "      <td>-0.389858</td>\n",
       "      <td>0.136915</td>\n",
       "      <td>20.066617</td>\n",
       "    </tr>\n",
       "    <tr>\n",
       "      <th>32081</th>\n",
       "      <td>22.341813</td>\n",
       "      <td>-0.177208</td>\n",
       "      <td>0.137290</td>\n",
       "      <td>17.477376</td>\n",
       "    </tr>\n",
       "    <tr>\n",
       "      <th>32082</th>\n",
       "      <td>22.635082</td>\n",
       "      <td>-0.248091</td>\n",
       "      <td>0.137498</td>\n",
       "      <td>17.384903</td>\n",
       "    </tr>\n",
       "    <tr>\n",
       "      <th>32083</th>\n",
       "      <td>22.901691</td>\n",
       "      <td>-0.141766</td>\n",
       "      <td>0.137567</td>\n",
       "      <td>17.015011</td>\n",
       "    </tr>\n",
       "    <tr>\n",
       "      <th>32084</th>\n",
       "      <td>23.648195</td>\n",
       "      <td>-0.212650</td>\n",
       "      <td>0.137706</td>\n",
       "      <td>16.922538</td>\n",
       "    </tr>\n",
       "  </tbody>\n",
       "</table>\n",
       "<p>32068 rows × 4 columns</p>\n",
       "</div>"
      ],
      "text/plain": [
       "              습도        풍속      현지기압         기온\n",
       "0      18.849238 -0.106325  0.138025  23.118222\n",
       "1      16.476420 -0.106325  0.137872  25.799936\n",
       "2      13.250454 -0.106325  0.137651  28.204231\n",
       "3      17.809464 -0.212650  0.137623  26.632192\n",
       "4      21.222056 -0.141766  0.137803  24.320370\n",
       "...          ...       ...       ...        ...\n",
       "32080  17.516194 -0.389858  0.136915  20.066617\n",
       "32081  22.341813 -0.177208  0.137290  17.477376\n",
       "32082  22.635082 -0.248091  0.137498  17.384903\n",
       "32083  22.901691 -0.141766  0.137567  17.015011\n",
       "32084  23.648195 -0.212650  0.137706  16.922538\n",
       "\n",
       "[32068 rows x 4 columns]"
      ]
     },
     "execution_count": 180,
     "metadata": {},
     "output_type": "execute_result"
    }
   ],
   "source": [
    "test = x*lr.coef_.squeeze()\n",
    "test"
   ]
  },
  {
   "cell_type": "code",
   "execution_count": null,
   "metadata": {},
   "outputs": [],
   "source": [
    "# from sklearn.metrics import mean_squared_error\n",
    " \n",
    "# mean_squared_error(test_value, predicted_value)"
   ]
  }
 ],
 "metadata": {
  "kernelspec": {
   "display_name": "Python 3",
   "language": "python",
   "name": "python3"
  },
  "language_info": {
   "codemirror_mode": {
    "name": "ipython",
    "version": 3
   },
   "file_extension": ".py",
   "mimetype": "text/x-python",
   "name": "python",
   "nbconvert_exporter": "python",
   "pygments_lexer": "ipython3",
   "version": "3.10.6"
  }
 },
 "nbformat": 4,
 "nbformat_minor": 2
}
