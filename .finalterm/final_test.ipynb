{
 "cells": [
  {
   "cell_type": "code",
   "execution_count": 5,
   "metadata": {},
   "outputs": [],
   "source": [
    "import random\n",
    "import numpy as np\n",
    "import matplotlib.pyplot as plt\n",
    "\n",
    "import pickle\n",
    "import matplotlib.pyplot as plt\n",
    "import numpy as np\n",
    "import pandas as pd\n",
    "\n",
    "\n",
    "# data = pickle.load(open(\"final_dataset1.pkl\", \"rb\"))\n",
    "\n",
    "data = pd.read_csv(\"gender.csv\")\n",
    "\n",
    "\n"
   ]
  },
  {
   "cell_type": "code",
   "execution_count": 8,
   "metadata": {},
   "outputs": [
    {
     "data": {
      "text/html": [
       "<div>\n",
       "<style scoped>\n",
       "    .dataframe tbody tr th:only-of-type {\n",
       "        vertical-align: middle;\n",
       "    }\n",
       "\n",
       "    .dataframe tbody tr th {\n",
       "        vertical-align: top;\n",
       "    }\n",
       "\n",
       "    .dataframe thead th {\n",
       "        text-align: right;\n",
       "    }\n",
       "</style>\n",
       "<table border=\"1\" class=\"dataframe\">\n",
       "  <thead>\n",
       "    <tr style=\"text-align: right;\">\n",
       "      <th></th>\n",
       "      <th>long_hair</th>\n",
       "      <th>forehead_width_cm</th>\n",
       "      <th>forehead_height_cm</th>\n",
       "      <th>nose_wide</th>\n",
       "      <th>nose_long</th>\n",
       "      <th>lips_thin</th>\n",
       "      <th>distance_nose_to_lip_long</th>\n",
       "      <th>gender</th>\n",
       "    </tr>\n",
       "  </thead>\n",
       "  <tbody>\n",
       "    <tr>\n",
       "      <th>0</th>\n",
       "      <td>1</td>\n",
       "      <td>11.8</td>\n",
       "      <td>6.1</td>\n",
       "      <td>1</td>\n",
       "      <td>0</td>\n",
       "      <td>1</td>\n",
       "      <td>1</td>\n",
       "      <td>Male</td>\n",
       "    </tr>\n",
       "    <tr>\n",
       "      <th>1</th>\n",
       "      <td>0</td>\n",
       "      <td>14.0</td>\n",
       "      <td>5.4</td>\n",
       "      <td>0</td>\n",
       "      <td>0</td>\n",
       "      <td>1</td>\n",
       "      <td>0</td>\n",
       "      <td>Female</td>\n",
       "    </tr>\n",
       "    <tr>\n",
       "      <th>2</th>\n",
       "      <td>0</td>\n",
       "      <td>11.8</td>\n",
       "      <td>6.3</td>\n",
       "      <td>1</td>\n",
       "      <td>1</td>\n",
       "      <td>1</td>\n",
       "      <td>1</td>\n",
       "      <td>Male</td>\n",
       "    </tr>\n",
       "    <tr>\n",
       "      <th>3</th>\n",
       "      <td>0</td>\n",
       "      <td>14.4</td>\n",
       "      <td>6.1</td>\n",
       "      <td>0</td>\n",
       "      <td>1</td>\n",
       "      <td>1</td>\n",
       "      <td>1</td>\n",
       "      <td>Male</td>\n",
       "    </tr>\n",
       "    <tr>\n",
       "      <th>4</th>\n",
       "      <td>1</td>\n",
       "      <td>13.5</td>\n",
       "      <td>5.9</td>\n",
       "      <td>0</td>\n",
       "      <td>0</td>\n",
       "      <td>0</td>\n",
       "      <td>0</td>\n",
       "      <td>Female</td>\n",
       "    </tr>\n",
       "    <tr>\n",
       "      <th>...</th>\n",
       "      <td>...</td>\n",
       "      <td>...</td>\n",
       "      <td>...</td>\n",
       "      <td>...</td>\n",
       "      <td>...</td>\n",
       "      <td>...</td>\n",
       "      <td>...</td>\n",
       "      <td>...</td>\n",
       "    </tr>\n",
       "    <tr>\n",
       "      <th>4996</th>\n",
       "      <td>1</td>\n",
       "      <td>13.6</td>\n",
       "      <td>5.1</td>\n",
       "      <td>0</td>\n",
       "      <td>0</td>\n",
       "      <td>0</td>\n",
       "      <td>0</td>\n",
       "      <td>Female</td>\n",
       "    </tr>\n",
       "    <tr>\n",
       "      <th>4997</th>\n",
       "      <td>1</td>\n",
       "      <td>11.9</td>\n",
       "      <td>5.4</td>\n",
       "      <td>0</td>\n",
       "      <td>0</td>\n",
       "      <td>0</td>\n",
       "      <td>0</td>\n",
       "      <td>Female</td>\n",
       "    </tr>\n",
       "    <tr>\n",
       "      <th>4998</th>\n",
       "      <td>1</td>\n",
       "      <td>12.9</td>\n",
       "      <td>5.7</td>\n",
       "      <td>0</td>\n",
       "      <td>0</td>\n",
       "      <td>0</td>\n",
       "      <td>0</td>\n",
       "      <td>Female</td>\n",
       "    </tr>\n",
       "    <tr>\n",
       "      <th>4999</th>\n",
       "      <td>1</td>\n",
       "      <td>13.2</td>\n",
       "      <td>6.2</td>\n",
       "      <td>0</td>\n",
       "      <td>0</td>\n",
       "      <td>0</td>\n",
       "      <td>0</td>\n",
       "      <td>Female</td>\n",
       "    </tr>\n",
       "    <tr>\n",
       "      <th>5000</th>\n",
       "      <td>1</td>\n",
       "      <td>15.4</td>\n",
       "      <td>5.4</td>\n",
       "      <td>1</td>\n",
       "      <td>1</td>\n",
       "      <td>1</td>\n",
       "      <td>1</td>\n",
       "      <td>Male</td>\n",
       "    </tr>\n",
       "  </tbody>\n",
       "</table>\n",
       "<p>5001 rows × 8 columns</p>\n",
       "</div>"
      ],
      "text/plain": [
       "      long_hair  forehead_width_cm  forehead_height_cm  nose_wide  nose_long  \\\n",
       "0             1               11.8                 6.1          1          0   \n",
       "1             0               14.0                 5.4          0          0   \n",
       "2             0               11.8                 6.3          1          1   \n",
       "3             0               14.4                 6.1          0          1   \n",
       "4             1               13.5                 5.9          0          0   \n",
       "...         ...                ...                 ...        ...        ...   \n",
       "4996          1               13.6                 5.1          0          0   \n",
       "4997          1               11.9                 5.4          0          0   \n",
       "4998          1               12.9                 5.7          0          0   \n",
       "4999          1               13.2                 6.2          0          0   \n",
       "5000          1               15.4                 5.4          1          1   \n",
       "\n",
       "      lips_thin  distance_nose_to_lip_long  gender  \n",
       "0             1                          1    Male  \n",
       "1             1                          0  Female  \n",
       "2             1                          1    Male  \n",
       "3             1                          1    Male  \n",
       "4             0                          0  Female  \n",
       "...         ...                        ...     ...  \n",
       "4996          0                          0  Female  \n",
       "4997          0                          0  Female  \n",
       "4998          0                          0  Female  \n",
       "4999          0                          0  Female  \n",
       "5000          1                          1    Male  \n",
       "\n",
       "[5001 rows x 8 columns]"
      ]
     },
     "execution_count": 8,
     "metadata": {},
     "output_type": "execute_result"
    }
   ],
   "source": [
    "data"
   ]
  },
  {
   "cell_type": "code",
   "execution_count": 7,
   "metadata": {},
   "outputs": [
    {
     "name": "stdout",
     "output_type": "stream",
     "text": [
      "[6. 3. 6.]\n",
      "[-3.  0.  3.]\n"
     ]
    }
   ],
   "source": [
    "import numpy as np\n",
    "\n",
    "# 주어진 데이터와 PC1 방향 벡터\n",
    "data_point = np.array([3, 3, 9])\n",
    "pc1_direction = np.array([2, 1, 2])\n",
    "\n",
    "# PC1 방향으로의 사영 계산\n",
    "projection = np.dot(data_point, pc1_direction) / np.dot(pc1_direction, pc1_direction) * pc1_direction\n",
    "ans = data_point - projection\n",
    "\n",
    "print(projection)\n",
    "print(ans)\n"
   ]
  },
  {
   "cell_type": "code",
   "execution_count": 12,
   "metadata": {},
   "outputs": [
    {
     "data": {
      "text/plain": [
       "array([[1, 11.8, 6.1, ..., 1, 1, 'Male'],\n",
       "       [0, 14.0, 5.4, ..., 1, 0, 'Female'],\n",
       "       [0, 11.8, 6.3, ..., 1, 1, 'Male'],\n",
       "       ...,\n",
       "       [1, 12.9, 5.7, ..., 0, 0, 'Female'],\n",
       "       [1, 13.2, 6.2, ..., 0, 0, 'Female'],\n",
       "       [1, 15.4, 5.4, ..., 1, 1, 'Male']], dtype=object)"
      ]
     },
     "execution_count": 12,
     "metadata": {},
     "output_type": "execute_result"
    }
   ],
   "source": [
    "np.array(data)"
   ]
  },
  {
   "cell_type": "code",
   "execution_count": 13,
   "metadata": {},
   "outputs": [
    {
     "ename": "ValueError",
     "evalue": "could not convert string to float: 'Male'",
     "output_type": "error",
     "traceback": [
      "\u001b[1;31m---------------------------------------------------------------------------\u001b[0m",
      "\u001b[1;31mValueError\u001b[0m                                Traceback (most recent call last)",
      "Cell \u001b[1;32mIn [13], line 6\u001b[0m\n\u001b[0;32m      4\u001b[0m X \u001b[38;5;241m=\u001b[39m np\u001b[38;5;241m.\u001b[39marray(data)\n\u001b[0;32m      5\u001b[0m pca \u001b[38;5;241m=\u001b[39m PCA(n_components\u001b[38;5;241m=\u001b[39m\u001b[38;5;241m4\u001b[39m)\n\u001b[1;32m----> 6\u001b[0m Y \u001b[38;5;241m=\u001b[39m \u001b[43mpca\u001b[49m\u001b[38;5;241;43m.\u001b[39;49m\u001b[43mfit_transform\u001b[49m\u001b[43m(\u001b[49m\u001b[43mX\u001b[49m\u001b[43m)\u001b[49m \u001b[38;5;66;03m# fit 한 다음에 새로운 축에 데이터를 반영하는 함수\u001b[39;00m\n\u001b[0;32m      8\u001b[0m plt\u001b[38;5;241m.\u001b[39mscatter(Y[:,\u001b[38;5;241m0\u001b[39m], Y[:,\u001b[38;5;241m1\u001b[39m], c\u001b[38;5;241m=\u001b[39mdata\u001b[38;5;241m.\u001b[39mgender, alpha\u001b[38;5;241m=\u001b[39m\u001b[38;5;241m0.3\u001b[39m)\n\u001b[0;32m      9\u001b[0m plt\u001b[38;5;241m.\u001b[39mshow()\n",
      "File \u001b[1;32mc:\\Users\\user\\AppData\\Local\\Programs\\Python\\Python310\\lib\\site-packages\\sklearn\\utils\\_set_output.py:140\u001b[0m, in \u001b[0;36m_wrap_method_output.<locals>.wrapped\u001b[1;34m(self, X, *args, **kwargs)\u001b[0m\n\u001b[0;32m    138\u001b[0m \u001b[38;5;129m@wraps\u001b[39m(f)\n\u001b[0;32m    139\u001b[0m \u001b[38;5;28;01mdef\u001b[39;00m \u001b[38;5;21mwrapped\u001b[39m(\u001b[38;5;28mself\u001b[39m, X, \u001b[38;5;241m*\u001b[39margs, \u001b[38;5;241m*\u001b[39m\u001b[38;5;241m*\u001b[39mkwargs):\n\u001b[1;32m--> 140\u001b[0m     data_to_wrap \u001b[38;5;241m=\u001b[39m f(\u001b[38;5;28mself\u001b[39m, X, \u001b[38;5;241m*\u001b[39margs, \u001b[38;5;241m*\u001b[39m\u001b[38;5;241m*\u001b[39mkwargs)\n\u001b[0;32m    141\u001b[0m     \u001b[38;5;28;01mif\u001b[39;00m \u001b[38;5;28misinstance\u001b[39m(data_to_wrap, \u001b[38;5;28mtuple\u001b[39m):\n\u001b[0;32m    142\u001b[0m         \u001b[38;5;66;03m# only wrap the first output for cross decomposition\u001b[39;00m\n\u001b[0;32m    143\u001b[0m         return_tuple \u001b[38;5;241m=\u001b[39m (\n\u001b[0;32m    144\u001b[0m             _wrap_data_with_container(method, data_to_wrap[\u001b[38;5;241m0\u001b[39m], X, \u001b[38;5;28mself\u001b[39m),\n\u001b[0;32m    145\u001b[0m             \u001b[38;5;241m*\u001b[39mdata_to_wrap[\u001b[38;5;241m1\u001b[39m:],\n\u001b[0;32m    146\u001b[0m         )\n",
      "File \u001b[1;32mc:\\Users\\user\\AppData\\Local\\Programs\\Python\\Python310\\lib\\site-packages\\sklearn\\base.py:1151\u001b[0m, in \u001b[0;36m_fit_context.<locals>.decorator.<locals>.wrapper\u001b[1;34m(estimator, *args, **kwargs)\u001b[0m\n\u001b[0;32m   1144\u001b[0m     estimator\u001b[38;5;241m.\u001b[39m_validate_params()\n\u001b[0;32m   1146\u001b[0m \u001b[38;5;28;01mwith\u001b[39;00m config_context(\n\u001b[0;32m   1147\u001b[0m     skip_parameter_validation\u001b[38;5;241m=\u001b[39m(\n\u001b[0;32m   1148\u001b[0m         prefer_skip_nested_validation \u001b[38;5;129;01mor\u001b[39;00m global_skip_validation\n\u001b[0;32m   1149\u001b[0m     )\n\u001b[0;32m   1150\u001b[0m ):\n\u001b[1;32m-> 1151\u001b[0m     \u001b[38;5;28;01mreturn\u001b[39;00m fit_method(estimator, \u001b[38;5;241m*\u001b[39margs, \u001b[38;5;241m*\u001b[39m\u001b[38;5;241m*\u001b[39mkwargs)\n",
      "File \u001b[1;32mc:\\Users\\user\\AppData\\Local\\Programs\\Python\\Python310\\lib\\site-packages\\sklearn\\decomposition\\_pca.py:460\u001b[0m, in \u001b[0;36mPCA.fit_transform\u001b[1;34m(self, X, y)\u001b[0m\n\u001b[0;32m    437\u001b[0m \u001b[38;5;129m@_fit_context\u001b[39m(prefer_skip_nested_validation\u001b[38;5;241m=\u001b[39m\u001b[38;5;28;01mTrue\u001b[39;00m)\n\u001b[0;32m    438\u001b[0m \u001b[38;5;28;01mdef\u001b[39;00m \u001b[38;5;21mfit_transform\u001b[39m(\u001b[38;5;28mself\u001b[39m, X, y\u001b[38;5;241m=\u001b[39m\u001b[38;5;28;01mNone\u001b[39;00m):\n\u001b[0;32m    439\u001b[0m     \u001b[38;5;124;03m\"\"\"Fit the model with X and apply the dimensionality reduction on X.\u001b[39;00m\n\u001b[0;32m    440\u001b[0m \n\u001b[0;32m    441\u001b[0m \u001b[38;5;124;03m    Parameters\u001b[39;00m\n\u001b[1;32m   (...)\u001b[0m\n\u001b[0;32m    458\u001b[0m \u001b[38;5;124;03m    C-ordered array, use 'np.ascontiguousarray'.\u001b[39;00m\n\u001b[0;32m    459\u001b[0m \u001b[38;5;124;03m    \"\"\"\u001b[39;00m\n\u001b[1;32m--> 460\u001b[0m     U, S, Vt \u001b[38;5;241m=\u001b[39m \u001b[38;5;28;43mself\u001b[39;49m\u001b[38;5;241;43m.\u001b[39;49m\u001b[43m_fit\u001b[49m\u001b[43m(\u001b[49m\u001b[43mX\u001b[49m\u001b[43m)\u001b[49m\n\u001b[0;32m    461\u001b[0m     U \u001b[38;5;241m=\u001b[39m U[:, : \u001b[38;5;28mself\u001b[39m\u001b[38;5;241m.\u001b[39mn_components_]\n\u001b[0;32m    463\u001b[0m     \u001b[38;5;28;01mif\u001b[39;00m \u001b[38;5;28mself\u001b[39m\u001b[38;5;241m.\u001b[39mwhiten:\n\u001b[0;32m    464\u001b[0m         \u001b[38;5;66;03m# X_new = X * V / S * sqrt(n_samples) = U * sqrt(n_samples)\u001b[39;00m\n",
      "File \u001b[1;32mc:\\Users\\user\\AppData\\Local\\Programs\\Python\\Python310\\lib\\site-packages\\sklearn\\decomposition\\_pca.py:483\u001b[0m, in \u001b[0;36mPCA._fit\u001b[1;34m(self, X)\u001b[0m\n\u001b[0;32m    477\u001b[0m \u001b[38;5;28;01mif\u001b[39;00m issparse(X):\n\u001b[0;32m    478\u001b[0m     \u001b[38;5;28;01mraise\u001b[39;00m \u001b[38;5;167;01mTypeError\u001b[39;00m(\n\u001b[0;32m    479\u001b[0m         \u001b[38;5;124m\"\u001b[39m\u001b[38;5;124mPCA does not support sparse input. See \u001b[39m\u001b[38;5;124m\"\u001b[39m\n\u001b[0;32m    480\u001b[0m         \u001b[38;5;124m\"\u001b[39m\u001b[38;5;124mTruncatedSVD for a possible alternative.\u001b[39m\u001b[38;5;124m\"\u001b[39m\n\u001b[0;32m    481\u001b[0m     )\n\u001b[1;32m--> 483\u001b[0m X \u001b[38;5;241m=\u001b[39m \u001b[38;5;28;43mself\u001b[39;49m\u001b[38;5;241;43m.\u001b[39;49m\u001b[43m_validate_data\u001b[49m\u001b[43m(\u001b[49m\n\u001b[0;32m    484\u001b[0m \u001b[43m    \u001b[49m\u001b[43mX\u001b[49m\u001b[43m,\u001b[49m\u001b[43m \u001b[49m\u001b[43mdtype\u001b[49m\u001b[38;5;241;43m=\u001b[39;49m\u001b[43m[\u001b[49m\u001b[43mnp\u001b[49m\u001b[38;5;241;43m.\u001b[39;49m\u001b[43mfloat64\u001b[49m\u001b[43m,\u001b[49m\u001b[43m \u001b[49m\u001b[43mnp\u001b[49m\u001b[38;5;241;43m.\u001b[39;49m\u001b[43mfloat32\u001b[49m\u001b[43m]\u001b[49m\u001b[43m,\u001b[49m\u001b[43m \u001b[49m\u001b[43mensure_2d\u001b[49m\u001b[38;5;241;43m=\u001b[39;49m\u001b[38;5;28;43;01mTrue\u001b[39;49;00m\u001b[43m,\u001b[49m\u001b[43m \u001b[49m\u001b[43mcopy\u001b[49m\u001b[38;5;241;43m=\u001b[39;49m\u001b[38;5;28;43mself\u001b[39;49m\u001b[38;5;241;43m.\u001b[39;49m\u001b[43mcopy\u001b[49m\n\u001b[0;32m    485\u001b[0m \u001b[43m\u001b[49m\u001b[43m)\u001b[49m\n\u001b[0;32m    487\u001b[0m \u001b[38;5;66;03m# Handle n_components==None\u001b[39;00m\n\u001b[0;32m    488\u001b[0m \u001b[38;5;28;01mif\u001b[39;00m \u001b[38;5;28mself\u001b[39m\u001b[38;5;241m.\u001b[39mn_components \u001b[38;5;129;01mis\u001b[39;00m \u001b[38;5;28;01mNone\u001b[39;00m:\n",
      "File \u001b[1;32mc:\\Users\\user\\AppData\\Local\\Programs\\Python\\Python310\\lib\\site-packages\\sklearn\\base.py:604\u001b[0m, in \u001b[0;36mBaseEstimator._validate_data\u001b[1;34m(self, X, y, reset, validate_separately, cast_to_ndarray, **check_params)\u001b[0m\n\u001b[0;32m    602\u001b[0m         out \u001b[38;5;241m=\u001b[39m X, y\n\u001b[0;32m    603\u001b[0m \u001b[38;5;28;01melif\u001b[39;00m \u001b[38;5;129;01mnot\u001b[39;00m no_val_X \u001b[38;5;129;01mand\u001b[39;00m no_val_y:\n\u001b[1;32m--> 604\u001b[0m     out \u001b[38;5;241m=\u001b[39m check_array(X, input_name\u001b[38;5;241m=\u001b[39m\u001b[38;5;124m\"\u001b[39m\u001b[38;5;124mX\u001b[39m\u001b[38;5;124m\"\u001b[39m, \u001b[38;5;241m*\u001b[39m\u001b[38;5;241m*\u001b[39mcheck_params)\n\u001b[0;32m    605\u001b[0m \u001b[38;5;28;01melif\u001b[39;00m no_val_X \u001b[38;5;129;01mand\u001b[39;00m \u001b[38;5;129;01mnot\u001b[39;00m no_val_y:\n\u001b[0;32m    606\u001b[0m     out \u001b[38;5;241m=\u001b[39m _check_y(y, \u001b[38;5;241m*\u001b[39m\u001b[38;5;241m*\u001b[39mcheck_params)\n",
      "File \u001b[1;32mc:\\Users\\user\\AppData\\Local\\Programs\\Python\\Python310\\lib\\site-packages\\sklearn\\utils\\validation.py:917\u001b[0m, in \u001b[0;36mcheck_array\u001b[1;34m(array, accept_sparse, accept_large_sparse, dtype, order, copy, force_all_finite, ensure_2d, allow_nd, ensure_min_samples, ensure_min_features, estimator, input_name)\u001b[0m\n\u001b[0;32m    915\u001b[0m         array \u001b[38;5;241m=\u001b[39m xp\u001b[38;5;241m.\u001b[39mastype(array, dtype, copy\u001b[38;5;241m=\u001b[39m\u001b[38;5;28;01mFalse\u001b[39;00m)\n\u001b[0;32m    916\u001b[0m     \u001b[38;5;28;01melse\u001b[39;00m:\n\u001b[1;32m--> 917\u001b[0m         array \u001b[38;5;241m=\u001b[39m \u001b[43m_asarray_with_order\u001b[49m\u001b[43m(\u001b[49m\u001b[43marray\u001b[49m\u001b[43m,\u001b[49m\u001b[43m \u001b[49m\u001b[43morder\u001b[49m\u001b[38;5;241;43m=\u001b[39;49m\u001b[43morder\u001b[49m\u001b[43m,\u001b[49m\u001b[43m \u001b[49m\u001b[43mdtype\u001b[49m\u001b[38;5;241;43m=\u001b[39;49m\u001b[43mdtype\u001b[49m\u001b[43m,\u001b[49m\u001b[43m \u001b[49m\u001b[43mxp\u001b[49m\u001b[38;5;241;43m=\u001b[39;49m\u001b[43mxp\u001b[49m\u001b[43m)\u001b[49m\n\u001b[0;32m    918\u001b[0m \u001b[38;5;28;01mexcept\u001b[39;00m ComplexWarning \u001b[38;5;28;01mas\u001b[39;00m complex_warning:\n\u001b[0;32m    919\u001b[0m     \u001b[38;5;28;01mraise\u001b[39;00m \u001b[38;5;167;01mValueError\u001b[39;00m(\n\u001b[0;32m    920\u001b[0m         \u001b[38;5;124m\"\u001b[39m\u001b[38;5;124mComplex data not supported\u001b[39m\u001b[38;5;130;01m\\n\u001b[39;00m\u001b[38;5;132;01m{}\u001b[39;00m\u001b[38;5;130;01m\\n\u001b[39;00m\u001b[38;5;124m\"\u001b[39m\u001b[38;5;241m.\u001b[39mformat(array)\n\u001b[0;32m    921\u001b[0m     ) \u001b[38;5;28;01mfrom\u001b[39;00m \u001b[38;5;21;01mcomplex_warning\u001b[39;00m\n",
      "File \u001b[1;32mc:\\Users\\user\\AppData\\Local\\Programs\\Python\\Python310\\lib\\site-packages\\sklearn\\utils\\_array_api.py:380\u001b[0m, in \u001b[0;36m_asarray_with_order\u001b[1;34m(array, dtype, order, copy, xp)\u001b[0m\n\u001b[0;32m    378\u001b[0m     array \u001b[38;5;241m=\u001b[39m numpy\u001b[38;5;241m.\u001b[39marray(array, order\u001b[38;5;241m=\u001b[39morder, dtype\u001b[38;5;241m=\u001b[39mdtype)\n\u001b[0;32m    379\u001b[0m \u001b[38;5;28;01melse\u001b[39;00m:\n\u001b[1;32m--> 380\u001b[0m     array \u001b[38;5;241m=\u001b[39m \u001b[43mnumpy\u001b[49m\u001b[38;5;241;43m.\u001b[39;49m\u001b[43masarray\u001b[49m\u001b[43m(\u001b[49m\u001b[43marray\u001b[49m\u001b[43m,\u001b[49m\u001b[43m \u001b[49m\u001b[43morder\u001b[49m\u001b[38;5;241;43m=\u001b[39;49m\u001b[43morder\u001b[49m\u001b[43m,\u001b[49m\u001b[43m \u001b[49m\u001b[43mdtype\u001b[49m\u001b[38;5;241;43m=\u001b[39;49m\u001b[43mdtype\u001b[49m\u001b[43m)\u001b[49m\n\u001b[0;32m    382\u001b[0m \u001b[38;5;66;03m# At this point array is a NumPy ndarray. We convert it to an array\u001b[39;00m\n\u001b[0;32m    383\u001b[0m \u001b[38;5;66;03m# container that is consistent with the input's namespace.\u001b[39;00m\n\u001b[0;32m    384\u001b[0m \u001b[38;5;28;01mreturn\u001b[39;00m xp\u001b[38;5;241m.\u001b[39masarray(array)\n",
      "\u001b[1;31mValueError\u001b[0m: could not convert string to float: 'Male'"
     ]
    }
   ],
   "source": [
    "from sklearn.decomposition import PCA\n",
    "import matplotlib.pyplot as plt\n",
    "\n",
    "X = np.array(data)\n",
    "pca = PCA(n_components=4)\n",
    "Y = pca.fit_transform(X) # fit 한 다음에 새로운 축에 데이터를 반영하는 함수\n",
    "\n",
    "plt.scatter(Y[:,0], Y[:,1], c=data.gender, alpha=0.3)\n",
    "plt.show()\n",
    "\n",
    "plt.plot(pca.explained_variance_, \"-o\")\n",
    "plt.show()\n",
    "\n",
    "\n"
   ]
  },
  {
   "cell_type": "code",
   "execution_count": null,
   "metadata": {},
   "outputs": [],
   "source": [
    "X = [[1,2],\n",
    "        [2,1],\n",
    "        [3,3],\n",
    "        [4,5],\n",
    "        [5,4]]\n",
    "\n"
   ]
  },
  {
   "cell_type": "code",
   "execution_count": 15,
   "metadata": {},
   "outputs": [
    {
     "name": "stdout",
     "output_type": "stream",
     "text": [
      "mean adjust of data\n",
      "[[-2 -1]\n",
      " [-1 -2]\n",
      " [ 0  0]\n",
      " [ 1  2]\n",
      " [ 2  1]]\n",
      "\n",
      "\n",
      "covariance matrix(from definition):\n",
      "[[2.  1.6]\n",
      " [1.6 2. ]]\n",
      "\n",
      "\n",
      "covariance matrix(python function):\n",
      "[[2.  1.6]\n",
      " [1.6 2. ]]\n"
     ]
    }
   ],
   "source": [
    "#pca 3-3\n",
    "\n",
    "\n",
    "\n",
    "\n",
    "def calculate_cov_matrix():\n",
    "    data = [[1,2],\n",
    "        [2,1],\n",
    "        [3,3],\n",
    "        [4,5],\n",
    "        [5,4]]\n",
    "    nData = len(data)\n",
    "\n",
    "    x = np.array(data)\n",
    "    x_mean = x\n",
    "    x_mean[:, 0] = x[:, 0] - np.mean(x[:, 0])\n",
    "    x_mean[:, 1] = x[:, 1] - np.mean(x[:, 1])\n",
    "\n",
    "    print('mean adjust of data')\n",
    "    print(x_mean)\n",
    "\n",
    "    res = x_mean.T @ x_mean / nData\n",
    "\n",
    "    print('\\n')\n",
    "    print('covariance matrix(from definition):')\n",
    "    print(res)\n",
    "\n",
    "    c = np.cov(x.T, bias=True)\n",
    "    print('\\n')\n",
    "    print('covariance matrix(python function):')\n",
    "    print(c)\n",
    "\n",
    "if __name__ == '__main__':\n",
    "    calculate_cov_matrix()"
   ]
  },
  {
   "cell_type": "code",
   "execution_count": 108,
   "metadata": {},
   "outputs": [
    {
     "name": "stdout",
     "output_type": "stream",
     "text": [
      "[[2.  1.6]\n",
      " [1.6 2. ]]\n"
     ]
    }
   ],
   "source": [
    "A = np.array([[1,2],\n",
    "        [2,1],\n",
    "        [3,3],\n",
    "        [4,5],\n",
    "        [5,4]])\n",
    "\n",
    "X = A\n",
    "X = X - X.mean(axis=0) # 점들의 분포가 원점에 가깝게 오도록\n",
    "\n",
    "# covariance matrix\n",
    "C = (X.T @ X) / X.shape[0]\n",
    "print(C)"
   ]
  },
  {
   "cell_type": "markdown",
   "metadata": {},
   "source": [
    "k means"
   ]
  },
  {
   "cell_type": "code",
   "execution_count": 114,
   "metadata": {},
   "outputs": [
    {
     "name": "stderr",
     "output_type": "stream",
     "text": [
      "c:\\Users\\user\\AppData\\Local\\Programs\\Python\\Python310\\lib\\site-packages\\sklearn\\cluster\\_kmeans.py:1412: FutureWarning: The default value of `n_init` will change from 10 to 'auto' in 1.4. Set the value of `n_init` explicitly to suppress the warning\n",
      "  super()._check_params_vs_input(X, default_n_init=10)\n"
     ]
    },
    {
     "data": {
      "text/plain": [
       "array([1, 1, 1, 0, 0])"
      ]
     },
     "execution_count": 114,
     "metadata": {},
     "output_type": "execute_result"
    }
   ],
   "source": [
    "from sklearn.cluster import KMeans\n",
    "from sklearn.decomposition import PCA\n",
    "pca = PCA(n_components=2)\n",
    "\n",
    "data = np.array([(1,1), (2,1), (1,2), (4,3), (4,4)])\n",
    "data = pca.fit_transform(data)\n",
    "\n",
    "kmeans = KMeans(n_clusters=2) # n_clusters == k값\n",
    "kmeans.fit(data)\n",
    "\n",
    "cluster = kmeans.predict(data)\n",
    "\n",
    "cluster"
   ]
  },
  {
   "cell_type": "code",
   "execution_count": 115,
   "metadata": {},
   "outputs": [
    {
     "data": {
      "text/plain": [
       "array([[ 2.06137444, -0.02711865],\n",
       "       [-1.37424963,  0.0180791 ]])"
      ]
     },
     "execution_count": 115,
     "metadata": {},
     "output_type": "execute_result"
    }
   ],
   "source": [
    "center = kmeans.cluster_centers_\n",
    "center"
   ]
  },
  {
   "cell_type": "code",
   "execution_count": 54,
   "metadata": {},
   "outputs": [],
   "source": [
    "X = {(1,1), (2,1), (1,2), (4,3), (4,4)}\n",
    "\n",
    "# points1 = [[3,1]]\n",
    "# points2 = [[3, 2]]\n",
    "# points = np.concatenate( (points1, points2) )\n",
    "# print(points)\n",
    "\n",
    "# points = np.array(X)\n",
    "\n",
    "points1 = [[1,1]]\n",
    "points2 = [[2,1]]\n",
    "points3 = [[1,2]]\n",
    "points4 = [[4,3]]\n",
    "points5 = [[4,4]]\n",
    "\n",
    "points = np.concatenate( (points1, points2, points3, points4, points5) )\n",
    "\n"
   ]
  },
  {
   "cell_type": "code",
   "execution_count": 55,
   "metadata": {},
   "outputs": [],
   "source": [
    "def assign(point, centroids, k):\n",
    "    return min(range(k), key=lambda i: np.dot(centroids[i]-point, centroids[i]-point))\n",
    "\n",
    "\n",
    "\n",
    "def compute_centroids(assignments, points, k):\n",
    "    vec_sum = [np.zeros(len(points[0])) for _ in range(k)]\n",
    "    counts = [0] * k\n",
    "    for i, p in zip(assignments, points):\n",
    "        vec_sum[i] += p\n",
    "        counts[i] += 1\n",
    "\n",
    "    return [vec_sum[i]/counts[i] if counts[i] > 0 else random.choice(points) for i in range(k)]\n",
    "\n",
    "\n",
    "def kmeans(k, points):\n",
    "    prev_assignment = []\n",
    "    # 1. 임의로 k개의 점을 중심점으로 선택 (forgy)\n",
    "    centroids = points[np.random.choice(points.shape[0], size=k)]\n",
    "    for epoch in range(10):\n",
    "    # 2. 각 점이 할당될 중심점을 계산\n",
    "        assignments = [assign(p, centroids, k) for p in points]\n",
    "        print(epoch, assignments)\n",
    "        # 3. 새로운 centroid 계산\n",
    "        centroids = compute_centroids(assignments, points, k)\n",
    "        print(epoch, centroids)\n",
    "        # 4. 클러스터에 변화가 없을 경우 종료\n",
    "        if prev_assignment == assignments:\n",
    "            break\n",
    "        prev_assignment = assignments\n",
    "    return assignments, centroids\n"
   ]
  },
  {
   "cell_type": "code",
   "execution_count": 47,
   "metadata": {},
   "outputs": [],
   "source": [
    "def kmeans(k, points):\n",
    "    prev_assignments = []\n",
    "    # 1. random centroid 추출\n",
    "    centroids = points[np.random.choice(len(points), size=k)] # points들 중 k개를 뽑는 것, 주어진 범위에서 몇개를 골라낸다\n",
    "    \n",
    "    for epoch in range(10):\n",
    "        # 2. 각 point가 어떤 centroid랑 가장 가까운지 계산(즉, 어느 클러스터에 속하는지 계산)\n",
    "        # ex) assignments = [1, 3, 2, 2, 4, 3, 1, 4, 3, 6]\n",
    "        assignments = []\n",
    "        for p in points:\n",
    "            min_dist = 9e9 # 굉장히 큰 값, 9곱하기 10의 9승\n",
    "            min_cid = -1 # 몇번째 centroid랑 가장 가까운지\n",
    "            for cid, c in enumerate(centroids):\n",
    "                dist = ((c - p) ** 2).sum() # 루트 안 씌웠음\n",
    "                if dist < min_dist:\n",
    "                    min_dist = dist\n",
    "                    min_cid = cid\n",
    "                    \n",
    "            assignments.append(min_cid)\n",
    "            \n",
    "        # 3. assignmen를 기준으로 새로운 centroid를 계산하기\n",
    "        centroids = np.array([points[np.array(assignments) == cid].mean(axis=0) for cid, c in enumerate(centroids)])\n",
    "            \n",
    "        # 예시\n",
    "        # assignments = [1, 3, 2, 2, 4, 3, 1, 4, 3, 6]\n",
    "        # enumerate(assignments)    => [(0, 1),(1,3),(2,2),(3,2)(4,4),(5,3),(6,1),(7,4),(8,3),(9,6)]\n",
    "        \n",
    "        # assignments = 1    => [True, Fasle, False, False, False, False, True, False, False, False] # 1만 True로\n",
    "        # points[assignments == 1] = [[2,3,4], [4,5,6]]\n",
    "        \n",
    "        # 4. 변경이 발생했는지 확인\n",
    "        if prev_assignments == assignments:\n",
    "            break\n",
    "        prev_assignments = assignments\n",
    "        \n",
    "    return assignments, centroids\n",
    "            "
   ]
  },
  {
   "cell_type": "code",
   "execution_count": 56,
   "metadata": {},
   "outputs": [
    {
     "name": "stdout",
     "output_type": "stream",
     "text": [
      "0 [2, 0, 7, 1, 4]\n",
      "0 [array([2., 1.]), array([4., 3.]), array([1., 1.]), array([1, 2]), array([4., 4.]), array([2, 1]), array([4, 3]), array([1., 2.])]\n",
      "1 [2, 0, 3, 1, 4]\n",
      "1 [array([2., 1.]), array([4., 3.]), array([1., 1.]), array([1., 2.]), array([4., 4.]), array([1, 2]), array([4, 4]), array([4, 4])]\n",
      "2 [2, 0, 3, 1, 4]\n",
      "2 [array([2., 1.]), array([4., 3.]), array([1., 1.]), array([1., 2.]), array([4., 4.]), array([4, 3]), array([4, 3]), array([1, 1])]\n",
      "[2, 0, 3, 1, 4]\n",
      "[array([2., 1.]), array([4., 3.]), array([1., 1.]), array([1., 2.]), array([4., 4.]), array([4, 3]), array([4, 3]), array([1, 1])]\n"
     ]
    }
   ],
   "source": [
    "assignments, centroids = kmeans(8, points)\n",
    "\n",
    "print(assignments)\n",
    "print(centroids)"
   ]
  },
  {
   "cell_type": "code",
   "execution_count": 57,
   "metadata": {},
   "outputs": [],
   "source": [
    "# item-item\n",
    "\n",
    "def cos(a, b):\n",
    "       #return np.dot(A, B)/(np.norm(A)*np.norm(B))\n",
    "       return (a*b).sum() / ((a**2).sum() ** 0.5) / ((b**2).sum() ** 0.5)\n",
    "\n",
    "def pearson(a, b):\n",
    "    #return np.dot((a - np.mean(a)), (b - np.mean(b))) / ((np.linalg.norm(a - np.mean(a))) * (np.linalg.norm(b - np.mean(b))))\n",
    "    a = a - a.mean()\n",
    "    b = b - b.mean()\n",
    "    return cos(a, b)\n",
    "\n"
   ]
  },
  {
   "cell_type": "code",
   "execution_count": 59,
   "metadata": {},
   "outputs": [
    {
     "name": "stdout",
     "output_type": "stream",
     "text": [
      "0.9212884029599915\n",
      "-0.4357142857142857\n",
      "1.0\n",
      "0.7926416156731931\n",
      "-0.17251638983558856\n",
      "\n",
      "2.0750595332879405\n"
     ]
    }
   ],
   "source": [
    "# user-user\n",
    "\n",
    "A = np.array([\n",
    "    [2,3,5,1,5],\n",
    "    [5,3,1,4,13/4],\n",
    "    [3,13/4,4,1,5], \n",
    "    [2,1,9/4,1,5],\n",
    "    [5,2,2,3,3],\n",
    "])\n",
    "\n",
    "for i in range(5):\n",
    "    print(pearson(A[i], A[2]))\n",
    "    \n",
    "ans = (0.9212884029599915 * 3 + 0.7926416156731931 * 1) / (0.9212884029599915 + 0.7926416156731931)\n",
    "print()\n",
    "print(ans)\n"
   ]
  },
  {
   "cell_type": "code",
   "execution_count": 85,
   "metadata": {},
   "outputs": [
    {
     "name": "stdout",
     "output_type": "stream",
     "text": [
      "25\n"
     ]
    }
   ],
   "source": [
    "import torch\n",
    "import torch.nn as nn\n",
    "\n",
    "items = torch.LongTensor([0,0,0,0,0,1,1,1,1,1,2,2,2,2,2,3,3,3,3,3,4,4,4,4,4])\n",
    "users = torch.LongTensor([0,1,2,3,4,0,1,2,3,4,0,1,2,3,4,0,1,2,3,4,0,1,2,3,4])\n",
    "ratings = torch.FloatTensor([2,5,3,2,5,\n",
    "                             3,3,13/4,1,2,\n",
    "                             5,1,4,9/4,2,\n",
    "                             1,4,1,1,3,\n",
    "                             5,13/4,5,5,3])\n",
    "print(len(items))"
   ]
  },
  {
   "cell_type": "code",
   "execution_count": 99,
   "metadata": {},
   "outputs": [
    {
     "name": "stdout",
     "output_type": "stream",
     "text": [
      "tensor([[-1.2701],\n",
      "        [-0.8305],\n",
      "        [-1.4953],\n",
      "        [ 1.1253],\n",
      "        [ 1.1522]], requires_grad=True)\n"
     ]
    }
   ],
   "source": [
    "rank = 1\n",
    "lambda1 = 0.01 # 가중치\n",
    "lambda2 = 0.01\n",
    "\n",
    "\n",
    "numItems = items.max() + 1\n",
    "numUsers = users.max() + 1\n",
    "\n",
    "mean = ratings.mean()\n",
    "#mean = (ratings.sum() / len(ratings)).item()\n",
    "\n",
    "P = torch.randn(numItems, rank, requires_grad=True) # gradient 방법으로 update\n",
    "Q = torch.randn(numUsers, rank, requires_grad=True)\n",
    "# P = items\n",
    "# Q = users\n",
    "print(P)\n"
   ]
  },
  {
   "cell_type": "code",
   "execution_count": 100,
   "metadata": {},
   "outputs": [
    {
     "name": "stdout",
     "output_type": "stream",
     "text": [
      "epoch: 0, cost: 13.068894\n",
      "epoch: 100, cost: 1.314519\n",
      "epoch: 200, cost: 1.313836\n",
      "epoch: 300, cost: 1.313840\n",
      "epoch: 400, cost: 1.313842\n",
      "epoch: 500, cost: 1.313844\n",
      "epoch: 600, cost: 1.313845\n",
      "epoch: 700, cost: 1.313845\n",
      "epoch: 800, cost: 1.313845\n",
      "epoch: 900, cost: 1.313845\n",
      "epoch: 1000, cost: 1.313845\n"
     ]
    },
    {
     "data": {
      "image/png": "[encoded data removed]",
      "text/plain": [
       "<Figure size 640x480 with 1 Axes>"
      ]
     },
     "metadata": {},
     "output_type": "display_data"
    }
   ],
   "source": [
    "mse = nn.MSELoss()\n",
    "optimizer = torch.optim.Adam([P, Q], lr= 0.1)\n",
    "\n",
    "X = []\n",
    "Y = []\n",
    "Y_test = []\n",
    "\n",
    "for epoch in range(1001):\n",
    "    h = torch. sum(P[items] * Q[users], dim=1)     \n",
    "    # h = (P[items] * Q[users]).sum(dim=1)\n",
    "    cost = mse(h, ratings)\n",
    "    cost_reg = cost + lambda1 * (P ** 2).mean() + lambda2 * (Q ** 2).mean()\n",
    "    \n",
    "    optimizer.zero_grad()\n",
    "    #cost.backward()\n",
    "    cost_reg.backward()\n",
    "    optimizer.step()\n",
    "    \n",
    "    with torch.no_grad():\n",
    "        X.append(epoch)\n",
    "        Y.append(cost.item())        \n",
    "        #h_test = (P[items_test] * Q[users_test]).sum(dim=1)\n",
    "        #cost_test = mse(h_test, ratings_test)\n",
    "        \n",
    "        #Y_test.append(cost_test.item())\n",
    "        \n",
    "        if epoch % 100 == 0:\n",
    "            print(\"epoch: {}, cost: {:.6f}\" .format(epoch, cost.item()))\n",
    "            \n",
    "plt.plot(X, Y, label=\"train MSE\")\n",
    "#plt.plot(X, Y_test, label=\"test MSE\")\n",
    "plt.legend() # 이름이 찍힘\n",
    "plt.show()\n",
    "\n",
    "\n",
    "# regularization 으로 overfitting이 조금 해결됐다. cost로 했을 때와, cost_reg로 했을 때 비교해보면 그래프가 올라가지 않음."
   ]
  },
  {
   "cell_type": "code",
   "execution_count": 101,
   "metadata": {},
   "outputs": [
    {
     "name": "stdout",
     "output_type": "stream",
     "text": [
      "tensor([[1.9264],\n",
      "        [1.4295],\n",
      "        [1.6512],\n",
      "        [1.1287],\n",
      "        [2.3973]], requires_grad=True)\n"
     ]
    }
   ],
   "source": [
    "print(P)\n",
    "\n",
    "# -1.9254,-1.4287,-1.6504,-1.1281,-2.3960"
   ]
  }
 ],
 "metadata": {
  "kernelspec": {
   "display_name": "Python 3",
   "language": "python",
   "name": "python3"
  },
  "language_info": {
   "codemirror_mode": {
    "name": "ipython",
    "version": 3
   },
   "file_extension": ".py",
   "mimetype": "text/x-python",
   "name": "python",
   "nbconvert_exporter": "python",
   "pygments_lexer": "ipython3",
   "version": "3.10.6"
  }
 },
 "nbformat": 4,
 "nbformat_minor": 2
}
