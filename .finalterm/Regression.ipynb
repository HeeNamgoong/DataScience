{
 "cells": [
  {
   "cell_type": "code",
   "execution_count": 104,
   "metadata": {},
   "outputs": [],
   "source": [
    "############################################\n",
    "##### L03.1 Linear Regression Practice #####\n",
    "############################################"
   ]
  },
  {
   "cell_type": "code",
   "execution_count": 105,
   "metadata": {},
   "outputs": [],
   "source": [
    "import torch"
   ]
  },
  {
   "cell_type": "code",
   "execution_count": 106,
   "metadata": {},
   "outputs": [
    {
     "name": "stdout",
     "output_type": "stream",
     "text": [
      "x =  tensor([[1, 2, 3],\n",
      "        [4, 5, 6],\n",
      "        [7, 8, 9]], dtype=torch.int32)\n",
      "Type :  torch.IntTensor\n"
     ]
    }
   ],
   "source": [
    "x = torch.tensor([[1,2,3], [4,5,6], [7,8,9]], dtype=torch.int)\n",
    "\n",
    "# tensor의 모양 알아보기\n",
    "\n",
    "print(\"x = \", x)\n",
    "print(\"Type : \", x.type())"
   ]
  },
  {
   "cell_type": "code",
   "execution_count": 107,
   "metadata": {},
   "outputs": [
    {
     "name": "stdout",
     "output_type": "stream",
     "text": [
      "Size :  torch.Size([3, 3])\n",
      "Shape :  torch.Size([3, 3])\n",
      "차원(랭크 :  2\n"
     ]
    }
   ],
   "source": [
    "# 크기와 랭크(차원) 확인하기\n",
    "\n",
    "print(\"Size : \", x.size())\n",
    "print(\"Shape : \", x.shape)\n",
    "print(\"차원(랭크 : \", x.ndimension())"
   ]
  },
  {
   "cell_type": "code",
   "execution_count": 108,
   "metadata": {},
   "outputs": [
    {
     "name": "stdout",
     "output_type": "stream",
     "text": [
      "x0.shape : torch.Size([1, 3, 3])\n",
      "x1.shape : torch.Size([3, 1, 3])\n",
      "x2.shape : torch.Size([3, 3, 1])\n",
      "x0 = tensor([[[1, 2, 3],\n",
      "         [4, 5, 6],\n",
      "         [7, 8, 9]]], dtype=torch.int32)\n",
      "x1 = tensor([[[1, 2, 3]],\n",
      "\n",
      "        [[4, 5, 6]],\n",
      "\n",
      "        [[7, 8, 9]]], dtype=torch.int32)\n",
      "x2 = tensor([[[1],\n",
      "         [2],\n",
      "         [3]],\n",
      "\n",
      "        [[4],\n",
      "         [5],\n",
      "         [6]],\n",
      "\n",
      "        [[7],\n",
      "         [8],\n",
      "         [9]]], dtype=torch.int32)\n"
     ]
    }
   ],
   "source": [
    "# 텐서 모양 바꾸기\n",
    "# unsqueeze(x, i): tensor x에 i 번째 차원 추가\n",
    "\n",
    "x0 = torch.unsqueeze(x, 0)\n",
    "x1 = torch.unsqueeze(x, 1)\n",
    "x2 = torch.unsqueeze(x, 2)\n",
    "\n",
    "print(\"x0.shape :\", x0.shape)\n",
    "print(\"x1.shape :\", x1.shape)\n",
    "print(\"x2.shape :\", x2.shape)\n",
    "print(\"x0 =\", x0)\n",
    "print(\"x1 =\", x1)\n",
    "print(\"x2 =\", x2)"
   ]
  },
  {
   "cell_type": "code",
   "execution_count": 109,
   "metadata": {},
   "outputs": [
    {
     "name": "stdout",
     "output_type": "stream",
     "text": [
      "x3 = tensor([[1, 2, 3],\n",
      "        [4, 5, 6],\n",
      "        [7, 8, 9]], dtype=torch.int32)\n",
      "x3.shape = torch.Size([3, 3])\n"
     ]
    }
   ],
   "source": [
    "# squeeze(x): 텐서 x에서 크기가 1인 차원 제거\n",
    "\n",
    "x3 = torch.squeeze(torch.squeeze(x0))\n",
    "#x3 = torch.squeeze(x0)\n",
    "print(\"x3 =\", x3)\n",
    "print(\"x3.shape =\", x3.shape)"
   ]
  },
  {
   "cell_type": "code",
   "execution_count": 110,
   "metadata": {},
   "outputs": [
    {
     "name": "stdout",
     "output_type": "stream",
     "text": [
      "x4 = tensor([1, 2, 3, 4, 5, 6, 7, 8, 9], dtype=torch.int32)\n",
      "x4.shape = torch.Size([9])\n",
      "x5 = tensor([[[1, 2, 3],\n",
      "         [4, 5, 6],\n",
      "         [7, 8, 9]]], dtype=torch.int32)\n",
      "x5.shape = torch.Size([1, 3, 3])\n"
     ]
    }
   ],
   "source": [
    "# x.view([shape]): x를 [shape]의 모양으로 변환\n",
    "\n",
    "x4 = x.view(9)\n",
    "print(\"x4 =\", x4)\n",
    "print(\"x4.shape =\", x4.shape)\n",
    "\n",
    "x5 = x.view(1,3,3)\n",
    "print(\"x5 =\", x5)\n",
    "print(\"x5.shape =\", x5.shape)"
   ]
  },
  {
   "cell_type": "code",
   "execution_count": 111,
   "metadata": {},
   "outputs": [
    {
     "name": "stdout",
     "output_type": "stream",
     "text": [
      "x * w + b =\n",
      "tensor([[2.7185],\n",
      "        [3.6601],\n",
      "        [5.5814]])\n"
     ]
    }
   ],
   "source": [
    "# 행렬 연산\n",
    "\n",
    "x = torch.FloatTensor([[1,2], [3,4], [5,6]])\n",
    "w = torch.randn(1,2, dtype=torch.float)\n",
    "b = torch.randn(3,1, dtype=torch.float)\n",
    "\n",
    "print(\"x * w + b =\")\n",
    "result = torch.mm(x, torch.t(w)) + b # torch.mm(x, w.T) + b\n",
    "print(result)"
   ]
  },
  {
   "cell_type": "code",
   "execution_count": 112,
   "metadata": {},
   "outputs": [
    {
     "name": "stdout",
     "output_type": "stream",
     "text": [
      "l을 w로 미분한 값은 tensor(18.)\n"
     ]
    }
   ],
   "source": [
    "# 기울기 계산\n",
    "\n",
    "w = torch.tensor(1.0, requires_grad=True)\n",
    "a = w * 3\n",
    "l = a ** 2\n",
    "l.backward() # 역방향으로 전달하면서 기울기 계산\n",
    "print('l을 w로 미분한 값은', w.grad)"
   ]
  },
  {
   "cell_type": "code",
   "execution_count": 4,
   "metadata": {},
   "outputs": [
    {
     "name": "stdout",
     "output_type": "stream",
     "text": [
      "epoch: 0, cost: 0.500000, W: 0.800000011920929, b: tensor([0.9000])\n"
     ]
    }
   ],
   "source": [
    "# Linear Regression\n",
    "import torch\n",
    "# x = torch.FloatTensor([[1,2], [3,2], [3,7], [1,1], [1,0]])\n",
    "# y = torch.FloatTensor([[4], [8], [23], [1], [-2]])\n",
    "\n",
    "x = torch.FloatTensor([[1], [1], [2],[3]])\n",
    "y = torch.FloatTensor([[1], [2], [3], [3]])\n",
    "\n",
    "W = torch.tensor([[1.0]], requires_grad=True)\n",
    "b = torch.tensor([1.0], requires_grad=True)\n",
    "lr = 0.1\n",
    "\n",
    "# print(x)\n",
    "# W = torch.zeros(2,1)\n",
    "# b = torch.zeros(1)\n",
    "\n",
    "\n",
    "for epoch in range(1):\n",
    "  W.requires_grad_(True)\n",
    "  b.requires_grad_(True)\n",
    "\n",
    "  h = torch.mm(x, W) + b\n",
    "  cost = torch.mean((h - y) ** 2)\n",
    "  \n",
    "  cost.backward()\n",
    "  with torch.no_grad():\n",
    "    W = W - lr * W.grad\n",
    "    b = b - lr * b.grad\n",
    "\n",
    "    if epoch % 100 == 0:\n",
    "      print( 'epoch: {}, cost: {:.6f}, W: {}, b: {}'.format(epoch,\n",
    " cost.item(), W.squeeze(), b))"
   ]
  },
  {
   "cell_type": "code",
   "execution_count": 114,
   "metadata": {},
   "outputs": [
    {
     "name": "stdout",
     "output_type": "stream",
     "text": [
      "tensor([[35.9998]])\n"
     ]
    }
   ],
   "source": [
    "x_test = torch.tensor([[5,10]], dtype=torch.float)\n",
    "test_result = torch.mm(x_test, W) + b\n",
    "print(test_result)"
   ]
  },
  {
   "cell_type": "code",
   "execution_count": 115,
   "metadata": {},
   "outputs": [
    {
     "name": "stdout",
     "output_type": "stream",
     "text": [
      "[[2. 3.]] [-4.]\n",
      "y 값 예측 : [[36.]]\n"
     ]
    }
   ],
   "source": [
    "from sklearn.linear_model import LinearRegression\n",
    "\n",
    "# Scikit-learn\n",
    "\n",
    "x = [[1,2], [3,2], [3,7], [1,1], [1,0]]\n",
    "y = [[4], [8], [23], [1], [-2]]\n",
    "\n",
    "model = LinearRegression()\n",
    "model.fit(x,y)\n",
    "\n",
    "# coef_: 기울기 값 (W에 해당), intercept_: y절편 값 (b에 해당)\n",
    "print(model.coef_, model.intercept_)\n",
    "\n",
    "print(\"y 값 예측 :\", model.predict([[5,10]]))"
   ]
  },
  {
   "cell_type": "code",
   "execution_count": null,
   "metadata": {},
   "outputs": [],
   "source": []
  },
  {
   "cell_type": "code",
   "execution_count": 116,
   "metadata": {},
   "outputs": [],
   "source": [
    "##############################################\n",
    "##### L04.1 Logistic Regression Practice #####\n",
    "##############################################"
   ]
  },
  {
   "cell_type": "code",
   "execution_count": 117,
   "metadata": {},
   "outputs": [
    {
     "name": "stdout",
     "output_type": "stream",
     "text": [
      "epoch: 0, cost: 0.662105, W: -0.044866, b: 0.509000\n",
      "epoch: 100, cost: 0.419009, W: -1.470418, b: 4.465821\n"
     ]
    },
    {
     "name": "stdout",
     "output_type": "stream",
     "text": [
      "epoch: 200, cost: 0.398351, W: -1.909160, b: 5.806341\n",
      "epoch: 300, cost: 0.390655, W: -2.181536, b: 6.631344\n",
      "epoch: 400, cost: 0.386922, W: -2.372570, b: 7.207379\n",
      "epoch: 500, cost: 0.384875, W: -2.514600, b: 7.634469\n",
      "epoch: 600, cost: 0.383669, W: -2.623876, b: 7.962452\n",
      "epoch: 700, cost: 0.382925, W: -2.709857, b: 8.220172\n",
      "epoch: 800, cost: 0.382450, W: -2.778574, b: 8.425944\n",
      "epoch: 900, cost: 0.382141, W: -2.834128, b: 8.592167\n",
      "epoch: 1000, cost: 0.381936, W: -2.879428, b: 8.727633\n",
      "epoch: 1100, cost: 0.381798, W: -2.916612, b: 8.838774\n",
      "epoch: 1200, cost: 0.381704, W: -2.947297, b: 8.930455\n",
      "epoch: 1300, cost: 0.381639, W: -2.972722, b: 9.006396\n",
      "epoch: 1400, cost: 0.381595, W: -2.993859, b: 9.069517\n",
      "epoch: 1500, cost: 0.381564, W: -3.011481, b: 9.122128\n",
      "epoch: 1600, cost: 0.381542, W: -3.026205, b: 9.166080\n",
      "epoch: 1700, cost: 0.381527, W: -3.038529, b: 9.202863\n",
      "epoch: 1800, cost: 0.381516, W: -3.048862, b: 9.233697\n",
      "epoch: 1900, cost: 0.381509, W: -3.057531, b: 9.259568\n",
      "epoch: 2000, cost: 0.381504, W: -3.064817, b: 9.281307\n",
      "epoch: 2100, cost: 0.381500, W: -3.070945, b: 9.299589\n",
      "epoch: 2200, cost: 0.381497, W: -3.076100, b: 9.314970\n",
      "epoch: 2300, cost: 0.381495, W: -3.080441, b: 9.327919\n",
      "epoch: 2400, cost: 0.381494, W: -3.084099, b: 9.338831\n",
      "epoch: 2500, cost: 0.381493, W: -3.087182, b: 9.348028\n",
      "epoch: 2600, cost: 0.381492, W: -3.089782, b: 9.355783\n",
      "epoch: 2700, cost: 0.381492, W: -3.091974, b: 9.362321\n",
      "epoch: 2800, cost: 0.381492, W: -3.093823, b: 9.367838\n",
      "epoch: 2900, cost: 0.381491, W: -3.095385, b: 9.372496\n",
      "epoch: 3000, cost: 0.381491, W: -3.096702, b: 9.376426\n"
     ]
    }
   ],
   "source": [
    "import torch\n",
    "\n",
    "x_train = torch.tensor([[1],[2],[3],[4],[5],[2.5],[3.5],[0],[3.1],[2.7],[2.8],[2.9]], dtype=torch.float)\n",
    "y_train = torch.tensor([[1],[1],[1],[0],[0],[0],[0],[1],[0],[1],[1],[1]], dtype=torch.float)\n",
    "\n",
    "W = torch.randn(1, 1)\n",
    "b = torch.randn(1, 1)\n",
    "\n",
    "lr = 1.0\n",
    "\n",
    "for epoch in range(3001):\n",
    "    W.requires_grad_(True)\n",
    "    b.requires_grad_(True)\n",
    "\n",
    "    h = torch.sigmoid(torch.mm(x_train, W) + b)\n",
    "\n",
    "    cost = torch.mean( -y_train * torch.log(h)\n",
    "                     -(1 - y_train) * torch.log(1 - h))\n",
    "    \n",
    "    cost.backward()\n",
    "\n",
    "    with torch.no_grad():\n",
    "        W = W - lr * W.grad\n",
    "        b = b - lr * b.grad\n",
    "\n",
    "        if epoch % 100 == 0:\n",
    "            print( 'epoch: {}, cost: {:.6f}, W: {:.6f}, b: {:.6f}'.format(\n",
    " epoch, cost.item(), W.squeeze(), b.squeeze()))"
   ]
  },
  {
   "cell_type": "code",
   "execution_count": 118,
   "metadata": {},
   "outputs": [
    {
     "name": "stdout",
     "output_type": "stream",
     "text": [
      "tensor([[0.],\n",
      "        [1.]])\n"
     ]
    }
   ],
   "source": [
    "# x = [4.5] 혹은 [1.1]일 때, y는 0일까 1일까?\n",
    "\n",
    "x_test = torch.tensor([[4.5], [1.1]], dtype=torch.float)  \n",
    "test_result = torch.sigmoid(torch.mm(x_test, W) + b)\n",
    "print(torch.round(test_result))"
   ]
  },
  {
   "cell_type": "code",
   "execution_count": 119,
   "metadata": {},
   "outputs": [
    {
     "name": "stdout",
     "output_type": "stream",
     "text": [
      "epoch: 0, cost: 0.804141, W: -0.114181, b: 1.361770\n",
      "epoch: 100, cost: 0.416032, W: -1.519656, b: 4.617093\n"
     ]
    },
    {
     "name": "stdout",
     "output_type": "stream",
     "text": [
      "epoch: 200, cost: 0.397409, W: -1.937220, b: 5.891557\n",
      "epoch: 300, cost: 0.390229, W: -2.200523, b: 6.688684\n",
      "epoch: 400, cost: 0.386697, W: -2.386412, b: 7.249043\n",
      "epoch: 500, cost: 0.384745, W: -2.525119, b: 7.666063\n",
      "epoch: 600, cost: 0.383590, W: -2.632083, b: 7.987066\n",
      "epoch: 700, cost: 0.382875, W: -2.716376, b: 8.239701\n",
      "epoch: 800, cost: 0.382419, W: -2.783822, b: 8.441648\n",
      "epoch: 900, cost: 0.382120, W: -2.838391, b: 8.604918\n",
      "epoch: 1000, cost: 0.381922, W: -2.882918, b: 8.738067\n",
      "epoch: 1100, cost: 0.381788, W: -2.919487, b: 8.847365\n",
      "epoch: 1200, cost: 0.381697, W: -2.949676, b: 8.937562\n",
      "epoch: 1300, cost: 0.381635, W: -2.974696, b: 9.012294\n",
      "epoch: 1400, cost: 0.381592, W: -2.995503, b: 9.074426\n",
      "epoch: 1500, cost: 0.381562, W: -3.012855, b: 9.126229\n",
      "epoch: 1600, cost: 0.381541, W: -3.027355, b: 9.169512\n",
      "epoch: 1700, cost: 0.381526, W: -3.039492, b: 9.205738\n",
      "epoch: 1800, cost: 0.381516, W: -3.049670, b: 9.236112\n",
      "epoch: 1900, cost: 0.381508, W: -3.058213, b: 9.261600\n",
      "epoch: 2000, cost: 0.381503, W: -3.065390, b: 9.283015\n",
      "epoch: 2100, cost: 0.381500, W: -3.071425, b: 9.301022\n",
      "epoch: 2200, cost: 0.381497, W: -3.076505, b: 9.316177\n",
      "epoch: 2300, cost: 0.381495, W: -3.080782, b: 9.328938\n",
      "epoch: 2400, cost: 0.381494, W: -3.084386, b: 9.339688\n",
      "epoch: 2500, cost: 0.381493, W: -3.087424, b: 9.348749\n",
      "epoch: 2600, cost: 0.381492, W: -3.089985, b: 9.356390\n",
      "epoch: 2700, cost: 0.381492, W: -3.092146, b: 9.362835\n",
      "epoch: 2800, cost: 0.381492, W: -3.093969, b: 9.368272\n",
      "epoch: 2900, cost: 0.381491, W: -3.095506, b: 9.372858\n",
      "epoch: 3000, cost: 0.381491, W: -3.096805, b: 9.376731\n"
     ]
    }
   ],
   "source": [
    "# optimizer 사용해보기\n",
    "\n",
    "x_train = torch.tensor([[1],[2],[3],[4],[5],[2.5],[3.5],[0],[3.1],[2.7],[2.8],[2.9]], dtype=torch.float)\n",
    "y_train = torch.tensor([[1],[1],[1],[0],[0],[0],[0],[1],[0],[1],[1],[1]], dtype=torch.float)\n",
    "\n",
    "W = torch.randn(1, 1, requires_grad=True)\n",
    "b = torch.randn(1, 1, requires_grad=True)\n",
    "\n",
    "optimizer = torch.optim.SGD([W,b], lr=1.0)\n",
    "\n",
    "for epoch in range(3001):\n",
    "    h = torch.sigmoid(torch.mm(x_train, W) + b)\n",
    "    cost = torch.mean( -y_train * torch.log(h)\n",
    "                     -(1 - y_train) * torch.log(1 - h))\n",
    "\n",
    "    optimizer.zero_grad() # 기울기 초기화\n",
    "    cost.backward()   # 기울기 계산\n",
    "    optimizer.step()      # 갱신\n",
    "\n",
    "    with torch.no_grad():\n",
    "        if epoch % 100 == 0:\n",
    "            print( 'epoch: {}, cost: {:.6f}, W: {:.6f}, b: {:.6f}'.format(\n",
    " epoch, cost.item(), W.squeeze(), b.squeeze()))\n"
   ]
  },
  {
   "cell_type": "code",
   "execution_count": 1,
   "metadata": {},
   "outputs": [
    {
     "ename": "NameError",
     "evalue": "name 'W' is not defined",
     "output_type": "error",
     "traceback": [
      "\u001b[1;31m---------------------------------------------------------------------------\u001b[0m",
      "\u001b[1;31mNameError\u001b[0m                                 Traceback (most recent call last)",
      "\u001b[1;32mc:\\Users\\user\\OneDrive\\바탕 화면\\2023-2\\DataScience\\20223068_남궁희.ipynb Cell 18\u001b[0m line \u001b[0;36m3\n\u001b[0;32m      <a href='vscode-notebook-cell:/c%3A/Users/user/OneDrive/%EB%B0%94%ED%83%95%20%ED%99%94%EB%A9%B4/2023-2/DataScience/20223068_%EB%82%A8%EA%B6%81%ED%9D%AC.ipynb#X23sZmlsZQ%3D%3D?line=0'>1</a>\u001b[0m \u001b[39mimport\u001b[39;00m \u001b[39mmatplotlib\u001b[39;00m\u001b[39m.\u001b[39;00m\u001b[39mpyplot\u001b[39;00m \u001b[39mas\u001b[39;00m \u001b[39mplt\u001b[39;00m\n\u001b[1;32m----> <a href='vscode-notebook-cell:/c%3A/Users/user/OneDrive/%EB%B0%94%ED%83%95%20%ED%99%94%EB%A9%B4/2023-2/DataScience/20223068_%EB%82%A8%EA%B6%81%ED%9D%AC.ipynb#X23sZmlsZQ%3D%3D?line=2'>3</a>\u001b[0m W\u001b[39m.\u001b[39mrequires_grad_(\u001b[39mFalse\u001b[39;00m)\n\u001b[0;32m      <a href='vscode-notebook-cell:/c%3A/Users/user/OneDrive/%EB%B0%94%ED%83%95%20%ED%99%94%EB%A9%B4/2023-2/DataScience/20223068_%EB%82%A8%EA%B6%81%ED%9D%AC.ipynb#X23sZmlsZQ%3D%3D?line=3'>4</a>\u001b[0m b\u001b[39m.\u001b[39mrequires_grad_(\u001b[39mFalse\u001b[39;00m)\n\u001b[0;32m      <a href='vscode-notebook-cell:/c%3A/Users/user/OneDrive/%EB%B0%94%ED%83%95%20%ED%99%94%EB%A9%B4/2023-2/DataScience/20223068_%EB%82%A8%EA%B6%81%ED%9D%AC.ipynb#X23sZmlsZQ%3D%3D?line=5'>6</a>\u001b[0m \u001b[39mwith\u001b[39;00m torch\u001b[39m.\u001b[39mno_grad():\n",
      "\u001b[1;31mNameError\u001b[0m: name 'W' is not defined"
     ]
    }
   ],
   "source": [
    "import matplotlib.pyplot as plt\n",
    "\n",
    "W.requires_grad_(False)\n",
    "b.requires_grad_(False)\n",
    "\n",
    "with torch.no_grad():\n",
    "    plt.scatter(x_train, y_train)\n",
    "\n",
    "    x_tmp = torch.linspace(0, 5, 100).unsqueeze(1)\n",
    "    y_tmp = torch.sigmoid(torch.mm(x_tmp, W) + b)\n",
    "    plt.plot(x_tmp, y_tmp, c=\"#ff0000\")\n",
    "    plt.xlabel(\"Input (X)\")\n",
    "    plt.ylabel(\"Probability of 1 (Y)\")\n",
    "    plt.show()"
   ]
  },
  {
   "cell_type": "code",
   "execution_count": 121,
   "metadata": {},
   "outputs": [
    {
     "name": "stdout",
     "output_type": "stream",
     "text": [
      "[[-3.10385806]] [9.39776831]\n",
      "[0 1]\n"
     ]
    }
   ],
   "source": [
    "# Logistic Regression with sklearn\n",
    "\n",
    "from sklearn.linear_model import LogisticRegression\n",
    "\n",
    "x_train = [[1],[2],[3],[4],[5],[2.5],[3.5],[0],[3.1],[2.7],[2.8],[2.9]]\n",
    "y_train = [1,1,1,0,0,0,0,1,0,1,1,1]\n",
    "\n",
    "model = LogisticRegression(penalty=None)\n",
    "model.fit(x_train,  y_train)\n",
    "\n",
    "print(model.coef_, model.intercept_)\n",
    "\n",
    "x_test = [[4.5], [1.1]]\n",
    "test_result = model.predict(x_test)\n",
    "print(test_result)"
   ]
  },
  {
   "cell_type": "code",
   "execution_count": null,
   "metadata": {},
   "outputs": [],
   "source": []
  },
  {
   "cell_type": "code",
   "execution_count": 122,
   "metadata": {},
   "outputs": [],
   "source": [
    "#############################################\n",
    "##### L05.1 Softmax Regression Practice #####\n",
    "#############################################"
   ]
  },
  {
   "cell_type": "code",
   "execution_count": 123,
   "metadata": {},
   "outputs": [
    {
     "name": "stdout",
     "output_type": "stream",
     "text": [
      "epoch: 0, cost: 7.334156\n",
      "epoch: 100, cost: 0.424280"
     ]
    },
    {
     "name": "stdout",
     "output_type": "stream",
     "text": [
      "\n",
      "epoch: 200, cost: 0.285709\n",
      "epoch: 300, cost: 0.202886\n",
      "epoch: 400, cost: 0.151288\n",
      "epoch: 500, cost: 0.117249\n",
      "epoch: 600, cost: 0.093515\n",
      "epoch: 700, cost: 0.076245\n",
      "epoch: 800, cost: 0.063268\n",
      "epoch: 900, cost: 0.053269\n",
      "epoch: 1000, cost: 0.045405\n",
      "epoch: 1100, cost: 0.039114\n",
      "epoch: 1200, cost: 0.034004\n",
      "epoch: 1300, cost: 0.029800\n",
      "epoch: 1400, cost: 0.026301\n",
      "epoch: 1500, cost: 0.023357\n",
      "epoch: 1600, cost: 0.020859\n",
      "epoch: 1700, cost: 0.018720\n",
      "epoch: 1800, cost: 0.016876\n",
      "epoch: 1900, cost: 0.015274\n",
      "epoch: 2000, cost: 0.013875\n",
      "epoch: 2100, cost: 0.012645\n",
      "epoch: 2200, cost: 0.011558\n",
      "epoch: 2300, cost: 0.010594\n",
      "epoch: 2400, cost: 0.009734\n",
      "epoch: 2500, cost: 0.008964\n",
      "epoch: 2600, cost: 0.008273\n",
      "epoch: 2700, cost: 0.007649\n",
      "epoch: 2800, cost: 0.007086\n",
      "epoch: 2900, cost: 0.006574\n",
      "epoch: 3000, cost: 0.006109\n"
     ]
    }
   ],
   "source": [
    "import torch\n",
    "\n",
    "# Softmax Regression\n",
    "\n",
    "x_train = torch.FloatTensor([ [1,2,1,1], [2,1,3,2], [3,1,3,4], [4,1,5,5], \n",
    "                             [1,7,5,5], [1,2,5,6], [1,6,6,6], [1,7,7,7] ])\n",
    "y_train = torch.FloatTensor([ [0,0,1], [0,0,1], [0,0,1], [0,1,0], \n",
    "                             [0,1,0], [0,1,0], [1,0,0], [1,0,0] ])\n",
    "\n",
    "W = torch.randn(4, 3, requires_grad=True)\n",
    "b = torch.randn(1, 3, requires_grad=True)\n",
    "\n",
    "optimizer = torch.optim.Adam([W, b], lr=0.1)\n",
    "\n",
    "for epoch in range(3001):\n",
    "    h = torch.softmax(torch.mm(x_train, W) + b, dim=1)\n",
    "    cost = -torch.mean(torch.sum(y_train * torch.log(h), dim=1))\n",
    "    \n",
    "    # ==\n",
    "    #h = (torch.mm(x_train, W)+b).softmax(dim=1)\n",
    "    #cost = -(y_train * torch.log(h)).sum(dim=1).mean()\n",
    "    \n",
    "    optimizer.zero_grad() # 기울기 초기화\n",
    "    cost.backward()   # 기울기 계산\n",
    "    optimizer.step()      # 갱신\n",
    "\n",
    "    with torch.no_grad():\n",
    "        if epoch % 100 == 0:\n",
    "            print(f\"epoch: {epoch}, cost: {cost.item():.6f}\")"
   ]
  },
  {
   "cell_type": "code",
   "execution_count": 124,
   "metadata": {},
   "outputs": [
    {
     "name": "stdout",
     "output_type": "stream",
     "text": [
      "tensor([[1.0000e+00, 1.2236e-16, 3.6974e-34],\n",
      "        [1.3359e-04, 8.3150e-01, 1.6836e-01],\n",
      "        [4.2444e-30, 9.9820e-11, 1.0000e+00]])\n",
      "tensor([0, 1, 2])\n"
     ]
    }
   ],
   "source": [
    "W.requires_grad_(False)\n",
    "b.requires_grad_(False)\n",
    "\n",
    "x_test = torch.tensor([[1,11,10,9], [1,3,4,3], [1,1,0,1]], dtype=torch.float)\n",
    "test_all = torch.softmax(torch.mm(x_test, W)+b, dim=1)\n",
    "print(test_all)\n",
    "print(torch.argmax(test_all, dim=1))"
   ]
  },
  {
   "cell_type": "code",
   "execution_count": 125,
   "metadata": {},
   "outputs": [
    {
     "name": "stdout",
     "output_type": "stream",
     "text": [
      "epoch: 0, cost: 8.376946\n"
     ]
    },
    {
     "name": "stdout",
     "output_type": "stream",
     "text": [
      "epoch: 100, cost: 0.399781\n",
      "epoch: 200, cost: 0.288080\n",
      "epoch: 300, cost: 0.211897\n",
      "epoch: 400, cost: 0.161152\n",
      "epoch: 500, cost: 0.126590\n",
      "epoch: 600, cost: 0.102066\n",
      "epoch: 700, cost: 0.083995\n",
      "epoch: 800, cost: 0.070266\n",
      "epoch: 900, cost: 0.059580\n",
      "epoch: 1000, cost: 0.051095\n",
      "epoch: 1100, cost: 0.044246\n",
      "epoch: 1200, cost: 0.038640\n",
      "epoch: 1300, cost: 0.033994\n",
      "epoch: 1400, cost: 0.030102\n",
      "epoch: 1500, cost: 0.026810\n",
      "epoch: 1600, cost: 0.024002\n",
      "epoch: 1700, cost: 0.021587\n",
      "epoch: 1800, cost: 0.019497\n",
      "epoch: 1900, cost: 0.017675\n",
      "epoch: 2000, cost: 0.016079\n",
      "epoch: 2100, cost: 0.014672\n",
      "epoch: 2200, cost: 0.013426\n",
      "epoch: 2300, cost: 0.012318\n",
      "epoch: 2400, cost: 0.011328\n",
      "epoch: 2500, cost: 0.010441\n",
      "epoch: 2600, cost: 0.009642\n",
      "epoch: 2700, cost: 0.008921\n",
      "epoch: 2800, cost: 0.008269\n",
      "epoch: 2900, cost: 0.007675\n",
      "epoch: 3000, cost: 0.007136\n"
     ]
    }
   ],
   "source": [
    "# 조금 더 깔끔하게 softmax\n",
    "\n",
    "import torch\n",
    "import torch.nn.functional as F\n",
    "\n",
    "x_train = torch.FloatTensor([ [1,2,1,1], [2,1,3,2], [3,1,3,4], [4,1,5,5], \n",
    "                             [1,7,5,5], [1,2,5,6], [1,6,6,6], [1,7,7,7] ])\n",
    "\n",
    "# y_train = torch.FloatTensor([ [0,0,1], [0,0,1], [0,0,1], [0,1,0], [0,1,0], [0,1,0], [1,0,0], [1,0,0] ])\n",
    "# -> 깔끔하게 수정\n",
    "y_train = torch.LongTensor([2,2,2,1,1,1,0,0])\n",
    "\n",
    "W = torch.randn(4, 3, requires_grad=True)\n",
    "b = torch.randn(1, 3, requires_grad=True)\n",
    "\n",
    "optimizer = torch.optim.Adam([W, b], lr=0.1)\n",
    "\n",
    "for epoch in range(3001):\n",
    "    z = torch.mm(x_train, W) + b\n",
    "    cost = F.cross_entropy(z, y_train)\n",
    "    \n",
    "    optimizer.zero_grad()\n",
    "    cost.backward()\n",
    "    optimizer.step()\n",
    "\n",
    "    with torch.no_grad():\n",
    "        if epoch % 100 == 0:\n",
    "            print(f\"epoch: {epoch}, cost: {cost.item():.6f}\")\n"
   ]
  },
  {
   "cell_type": "code",
   "execution_count": 126,
   "metadata": {},
   "outputs": [
    {
     "name": "stdout",
     "output_type": "stream",
     "text": [
      "epoch: 0, cost: 3.131099\n",
      "epoch: 100, cost: 0.099255\n",
      "epoch: 200, cost: 0.051740\n",
      "epoch: 300, cost: 0.031736\n",
      "epoch: 400, cost: 0.022099\n",
      "epoch: 500, cost: 0.016361\n",
      "epoch: 600, cost: 0.012632\n",
      "epoch: 700, cost: 0.010065\n",
      "epoch: 800, cost: 0.008219\n",
      "epoch: 900, cost: 0.006843\n",
      "epoch: 1000, cost: 0.005789\n",
      "epoch: 1100, cost: 0.004961\n",
      "epoch: 1200, cost: 0.004298\n",
      "epoch: 1300, cost: 0.003759\n",
      "epoch: 1400, cost: 0.003313\n",
      "epoch: 1500, cost: 0.002941\n",
      "epoch: 1600, cost: 0.002626\n",
      "epoch: 1700, cost: 0.002357\n",
      "epoch: 1800, cost: 0.002126\n",
      "epoch: 1900, cost: 0.001925\n",
      "epoch: 2000, cost: 0.001750\n",
      "epoch: 2100, cost: 0.001596\n",
      "epoch: 2200, cost: 0.001460\n",
      "epoch: 2300, cost: 0.001340\n",
      "epoch: 2400, cost: 0.001232\n",
      "epoch: 2500, cost: 0.001136\n",
      "epoch: 2600, cost: 0.001049\n",
      "epoch: 2700, cost: 0.000971\n",
      "epoch: 2800, cost: 0.000900\n",
      "epoch: 2900, cost: 0.000836\n",
      "epoch: 3000, cost: 0.000777\n"
     ]
    }
   ],
   "source": [
    "import torch\n",
    "import torch.nn.functional as F\n",
    "import torch.nn as nn\n",
    "\n",
    "x_train = torch.FloatTensor([ [1,2,1,1], [2,1,3,2], [3,1,3,4], [4,1,5,5], \n",
    "                             [1,7,5,5], [1,2,5,6], [1,6,6,6], [1,7,7,7] ])\n",
    "y_train = torch.tensor([2,2,2,1,1,1,0,0], dtype=torch.long)\n",
    "\n",
    "model = nn.Linear(4, 3)\n",
    "\n",
    "optimizer = torch.optim.Adam(model.parameters(), lr=1)\n",
    "\n",
    "\n",
    "for epoch in range(3001):\n",
    "    #  z = torch.mm(x_train, W) + b\n",
    "    # -> 수정\n",
    "    z = model(x_train)\n",
    "    cost = F.cross_entropy(z, y_train)\n",
    "    \n",
    "    optimizer.zero_grad()\n",
    "    cost.backward()\n",
    "    optimizer.step()\n",
    "\n",
    "    with torch.no_grad():\n",
    "        if epoch % 100 == 0:\n",
    "            print(f\"epoch: {epoch}, cost: {cost.item():.6f}\")"
   ]
  },
  {
   "cell_type": "code",
   "execution_count": 127,
   "metadata": {},
   "outputs": [
    {
     "name": "stdout",
     "output_type": "stream",
     "text": [
      "[0 2 2]\n"
     ]
    }
   ],
   "source": [
    "# softmax regression in sklearn\n",
    "\n",
    "import numpy as np\n",
    "from sklearn.linear_model import LogisticRegression\n",
    "\n",
    "x_train = np.array([ [1,2,1,1], [2,1,3,2], [3,1,3,4], [4,1,5,5],\n",
    "                   [1,7,5,5], [1,2,5,6], [1,6,6,6], [1,7,7,7] ])\n",
    "y_train = np.array([ 2, 2, 2, 1, 1, 1, 0, 0 ])\n",
    "\n",
    "logistic = LogisticRegression() # 모델 생성\n",
    "logistic.fit(x_train, y_train) # 학습\n",
    "\n",
    "x_test = np.array([[1,11,10,9], [1,3,4,3], [1,1,0,1]])\n",
    "pred = logistic.predict(x_test) # test case (값 예측)\n",
    "print(pred) # 출력"
   ]
  }
 ],
 "metadata": {
  "kernelspec": {
   "display_name": "Python 3",
   "language": "python",
   "name": "python3"
  },
  "language_info": {
   "codemirror_mode": {
    "name": "ipython",
    "version": 3
   },
   "file_extension": ".py",
   "mimetype": "text/x-python",
   "name": "python",
   "nbconvert_exporter": "python",
   "pygments_lexer": "ipython3",
   "version": "3.10.6"
  },
  "orig_nbformat": 4
 },
 "nbformat": 4,
 "nbformat_minor": 2
}
