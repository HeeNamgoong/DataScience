{
 "cells": [
  {
   "cell_type": "code",
   "execution_count": 1,
   "metadata": {},
   "outputs": [],
   "source": [
    "###################################################\n",
    "#      L08.1 latent factor model practice         #\n",
    "###################################################"
   ]
  },
  {
   "cell_type": "code",
   "execution_count": 2,
   "metadata": {},
   "outputs": [],
   "source": [
    "import torch\n",
    "import torch.nn as nn\n",
    "import matplotlib.pyplot as plt\n",
    "import pandas as pd"
   ]
  },
  {
   "cell_type": "code",
   "execution_count": 3,
   "metadata": {},
   "outputs": [],
   "source": [
    "# 파일에서의 구분자 : 탭 / 순서 : user item(movie) rating timestamp\n",
    "\n",
    "train = pd.read_csv(\"ml-100k/ml-100k/ua.base\",  sep=\"\\t\", names=['user', 'item', 'rating', 'timestamp'])\n",
    "test = pd.read_csv(\"ml-100k/ml-100k/ua.test\",  sep=\"\\t\", names=['user', 'item', 'rating', 'timestamp'])"
   ]
  },
  {
   "cell_type": "code",
   "execution_count": 13,
   "metadata": {},
   "outputs": [
    {
     "name": "stdout",
     "output_type": "stream",
     "text": [
      "tensor([   1,    2,    3,  ..., 1188, 1228, 1330])\n"
     ]
    }
   ],
   "source": [
    "items = torch.LongTensor(train['item'])\n",
    "users = torch.LongTensor(train['user'])\n",
    "ratings = torch.FloatTensor(train['rating'])\n",
    "\n",
    "items_test = torch.LongTensor(test['item'])\n",
    "users_test = torch.LongTensor(test['user'])\n",
    "ratings_test = torch.FloatTensor(test['rating'])\n"
   ]
  },
  {
   "cell_type": "code",
   "execution_count": 5,
   "metadata": {},
   "outputs": [
    {
     "name": "stdout",
     "output_type": "stream",
     "text": [
      "torch.Size([90570])\n",
      "torch.Size([90570])\n",
      "torch.Size([90570])\n"
     ]
    }
   ],
   "source": [
    "print(items.shape)\n",
    "print(users.shape)\n",
    "print(ratings.shape)\n",
    "\n",
    "# m*n 벡터가 있을 때, n을 다른 말로 rank 라고도 부름. rank 커지면 메모리 차지 많이 함."
   ]
  },
  {
   "cell_type": "code",
   "execution_count": 6,
   "metadata": {},
   "outputs": [],
   "source": [
    "rank = 10\n",
    "\n",
    "numItems = items.max() + 1\n",
    "numUsers = users.max() + 1\n",
    "\n",
    "P = torch.randn(numItems, rank, requires_grad=True) # gradient 방법으로 update\n",
    "Q = torch.randn(numUsers, rank, requires_grad=True)"
   ]
  },
  {
   "cell_type": "code",
   "execution_count": 7,
   "metadata": {},
   "outputs": [
    {
     "name": "stdout",
     "output_type": "stream",
     "text": [
      "epoch: 0, cost: 23.657547, cost_test: 21.82521629333496\n",
      "epoch: 100, cost: 0.562997, cost_test: 1.5194265842437744\n",
      "epoch: 200, cost: 0.492439, cost_test: 1.8790864944458008\n",
      "epoch: 300, cost: 0.468977, cost_test: 2.240058422088623\n",
      "epoch: 400, cost: 0.458477, cost_test: 2.5998804569244385\n",
      "epoch: 500, cost: 0.452507, cost_test: 2.9522037506103516\n",
      "epoch: 600, cost: 0.448694, cost_test: 3.362626791000366\n",
      "epoch: 700, cost: 0.446213, cost_test: 3.8632290363311768\n",
      "epoch: 800, cost: 0.444462, cost_test: 4.392175674438477\n",
      "epoch: 900, cost: 0.443163, cost_test: 4.8770294189453125\n",
      "epoch: 1000, cost: 0.442141, cost_test: 5.323320388793945\n"
     ]
    }
   ],
   "source": [
    "mse = nn.MSELoss()\n",
    "optimizer = torch.optim.Adam([P, Q], lr= 0.1)\n",
    "\n",
    "X = []\n",
    "Y = []\n",
    "Y_test = []\n",
    "\n",
    "for epoch in range(1001):\n",
    "    h = torch.sum(P[items] * Q[users], dim=1)\n",
    "    # h = (P[items] * Q[users]).sum(dim=1)\n",
    "    cost = mse(h, ratings)\n",
    "    \n",
    "    optimizer.zero_grad()\n",
    "    cost.backward()\n",
    "    optimizer.step()\n",
    "    \n",
    "    with torch.no_grad():\n",
    "        X.append(epoch)\n",
    "        Y.append(cost.item())\n",
    "        \n",
    "        h_test = (P[items_test] * Q[users_test]).sum(dim=1)\n",
    "        cost_test = mse(h_test, ratings_test)\n",
    "        \n",
    "        Y_test.append(cost_test.item())\n",
    "        \n",
    "        if epoch % 100 == 0:\n",
    "            print(\"epoch: {}, cost: {:.6f}, cost_test: {}\" .format(epoch, cost.item(), cost_test))\n",
    "            "
   ]
  },
  {
   "cell_type": "code",
   "execution_count": 8,
   "metadata": {},
   "outputs": [
    {
     "data": {
      "image/png": "[encoded data removed]",
      "text/plain": [
       "<Figure size 640x480 with 1 Axes>"
      ]
     },
     "metadata": {},
     "output_type": "display_data"
    }
   ],
   "source": [
    "plt.ylabel(\"MSE\")  \n",
    "plt.xlabel(\"Epoch\")  \n",
    "plt.plot(X, Y, c=\"blue\", label=\"Training MSE\")  \n",
    "plt.plot(X, Y_test, c=\"red\", label=\"Test MSE\")\n",
    "plt.legend()  \n",
    "plt.show()"
   ]
  },
  {
   "cell_type": "markdown",
   "metadata": {},
   "source": [
    "## Regularization"
   ]
  },
  {
   "cell_type": "code",
   "execution_count": 9,
   "metadata": {},
   "outputs": [],
   "source": [
    "rank = 10\n",
    "lambda1 = 0.1 # 가중치\n",
    "lambda2 = 0.1\n",
    "\n",
    "\n",
    "numItems = items.max() + 1\n",
    "numUsers = users.max() + 1\n",
    "\n",
    "mean = ratings.mean()\n",
    "#mean = (ratings.sum() / len(ratings)).item()\n",
    "\n",
    "P = torch.randn(numItems, rank, requires_grad=True) # gradient 방법으로 update\n",
    "Q = torch.randn(numUsers, rank, requires_grad=True)"
   ]
  },
  {
   "cell_type": "code",
   "execution_count": 14,
   "metadata": {},
   "outputs": [
    {
     "name": "stdout",
     "output_type": "stream",
     "text": [
      "epoch: 0, cost: 12.586684, cost_test : 12.15028190612793\n",
      "epoch: 100, cost: 0.464074, cost_test : 1.1687027215957642\n",
      "epoch: 200, cost: 0.459401, cost_test : 1.180284023284912\n",
      "epoch: 300, cost: 0.458309, cost_test : 1.1857651472091675\n",
      "epoch: 400, cost: 0.457718, cost_test : 1.1876745223999023\n",
      "epoch: 500, cost: 0.457272, cost_test : 1.1887506246566772\n",
      "epoch: 600, cost: 0.456871, cost_test : 1.1899909973144531\n",
      "epoch: 700, cost: 0.456539, cost_test : 1.1922262907028198\n",
      "epoch: 800, cost: 0.456270, cost_test : 1.1932846307754517\n",
      "epoch: 900, cost: 0.456073, cost_test : 1.1929175853729248\n",
      "epoch: 1000, cost: 0.455888, cost_test : 1.1929117441177368\n"
     ]
    },
    {
     "data": {
      "image/png": "[encoded data removed]",
      "text/plain": [
       "<Figure size 640x480 with 1 Axes>"
      ]
     },
     "metadata": {},
     "output_type": "display_data"
    }
   ],
   "source": [
    "mse = nn.MSELoss()\n",
    "optimizer = torch.optim.Adam([P, Q], lr= 0.1)\n",
    "\n",
    "X = []\n",
    "Y = []\n",
    "Y_test = []\n",
    "\n",
    "for epoch in range(1001):\n",
    "    h = torch. sum(P[items] * Q[users], dim=1)     \n",
    "    # h = (P[items] * Q[users]).sum(dim=1)\n",
    "    cost = mse(h, ratings)\n",
    "    cost_reg = cost + lambda1 * (P ** 2).mean() + lambda2 * (Q ** 2).mean()\n",
    "    \n",
    "    optimizer.zero_grad()\n",
    "    #cost.backward()\n",
    "    cost_reg.backward()\n",
    "    optimizer.step()\n",
    "    \n",
    "    with torch.no_grad():\n",
    "        X.append(epoch)\n",
    "        Y.append(cost.item())\n",
    "        \n",
    "        \n",
    "        \n",
    "        h_test = (P[items_test] * Q[users_test]).sum(dim=1)\n",
    "        cost_test = mse(h_test, ratings_test)\n",
    "        \n",
    "        Y_test.append(cost_test.item())\n",
    "        \n",
    "        if epoch % 100 == 0:\n",
    "            print(\"epoch: {}, cost: {:.6f}, cost_test : {}\" .format(epoch, cost.item(), cost_test))\n",
    "            \n",
    "plt.plot(X, Y, label=\"train MSE\")\n",
    "#plt.plot(X, Y_test, label=\"test MSE\")\n",
    "plt.legend() # 이름이 찍힘\n",
    "plt.show()\n",
    "\n",
    "\n",
    "# regularization 으로 overfitting이 조금 해결됐다. cost로 했을 때와, cost_reg로 했을 때 비교해보면 그래프가 올라가지 않음."
   ]
  },
  {
   "cell_type": "markdown",
   "metadata": {},
   "source": [
    "Bias 추가"
   ]
  },
  {
   "cell_type": "code",
   "execution_count": 11,
   "metadata": {},
   "outputs": [],
   "source": [
    "rank = 10\n",
    "lambda1 = 0.1 # 가중치\n",
    "lambda2 = 0.1\n",
    "lambda3 = 0.1\n",
    "lambda4 = 0.1\n",
    "\n",
    "\n",
    "numItems = items.max() + 1\n",
    "numUsers = users.max() + 1\n",
    "\n",
    "mean = ratings.mean()\n",
    "\n",
    "P = torch.randn(numItems, rank, requires_grad=True) # gradient 방법으로 update\n",
    "Q = torch.randn(numUsers, rank, requires_grad=True)\n",
    "bias_item = torch.randn(numItems, requires_grad=True)\n",
    "bias_user = torch.randn(numUsers, requires_grad=True)"
   ]
  },
  {
   "cell_type": "code",
   "execution_count": 12,
   "metadata": {},
   "outputs": [
    {
     "name": "stdout",
     "output_type": "stream",
     "text": [
      "epoch: 0, cost: 13.143369, cost_test : 10.460397720336914\n",
      "epoch: 100, cost: 0.500223, cost_test : 1.164635181427002\n",
      "epoch: 200, cost: 0.458587, cost_test : 1.1912741661071777\n",
      "epoch: 300, cost: 0.447115, cost_test : 1.1948742866516113\n",
      "epoch: 400, cost: 0.442564, cost_test : 1.194921612739563\n",
      "epoch: 500, cost: 0.440850, cost_test : 1.1921055316925049\n",
      "epoch: 600, cost: 0.440072, cost_test : 1.191045880317688\n",
      "epoch: 700, cost: 0.439393, cost_test : 1.196309208869934\n",
      "epoch: 800, cost: 0.438895, cost_test : 1.2016254663467407\n",
      "epoch: 900, cost: 0.438203, cost_test : 1.2108583450317383\n",
      "epoch: 1000, cost: 0.437801, cost_test : 1.2183096408843994\n"
     ]
    },
    {
     "data": {
      "image/png": "[encoded data removed]",
      "text/plain": [
       "<Figure size 640x480 with 1 Axes>"
      ]
     },
     "metadata": {},
     "output_type": "display_data"
    }
   ],
   "source": [
    "mse = nn.MSELoss()\n",
    "optimizer = torch.optim.Adam([P, Q, bias_item, bias_user], lr= 0.1)\n",
    "\n",
    "X = []\n",
    "Y = []\n",
    "Y_test = []\n",
    "\n",
    "for epoch in range(1001):\n",
    "    h = torch. sum(P[items] * Q[users], dim=1) + mean + bias_item[items] + bias_user[users]\n",
    "    # h = (P[items] * Q[users]).sum(dim=1)\n",
    "    cost = mse(h, ratings)\n",
    "    cost_reg = cost + lambda1 * (P ** 2).mean() + lambda2 * (Q ** 2).mean() + lambda3 * (bias_item ** 2).mean() + lambda4 * (bias_user ** 2).mean() # regularization\n",
    "    \n",
    "    optimizer.zero_grad()\n",
    "    #cost.backward()\n",
    "    cost_reg.backward()\n",
    "    optimizer.step()\n",
    "    \n",
    "    with torch.no_grad():\n",
    "        X.append(epoch)\n",
    "        Y.append(cost.item())\n",
    "        \n",
    "        \n",
    "        \n",
    "        h_test = (P[items_test] * Q[users_test]).sum(dim=1) + mean + bias_item[items_test] + bias_user[users_test]\n",
    "        cost_test = mse(h_test, ratings_test)\n",
    "        \n",
    "        Y_test.append(cost_test.item())\n",
    "        \n",
    "        if epoch % 100 == 0:\n",
    "            print(\"epoch: {}, cost: {:.6f}, cost_test : {}\" .format(epoch, cost.item(), cost_test))\n",
    "            \n",
    "plt.plot(X, Y, label=\"train MSE\")\n",
    "plt.plot(X, Y_test, label=\"test MSE\")\n",
    "plt.legend() # 이름이 찍힘\n",
    "plt.show()\n",
    "\n",
    "\n",
    "# regularization 으로 overfitting이 조금 해결됐다. cost로 했을 때와, cost_reg로 했을 때 비교해보면 그래프가 올라가지 않음."
   ]
  }
 ],
 "metadata": {
  "kernelspec": {
   "display_name": "Python 3",
   "language": "python",
   "name": "python3"
  },
  "language_info": {
   "codemirror_mode": {
    "name": "ipython",
    "version": 3
   },
   "file_extension": ".py",
   "mimetype": "text/x-python",
   "name": "python",
   "nbconvert_exporter": "python",
   "pygments_lexer": "ipython3",
   "version": "3.10.6"
  },
  "orig_nbformat": 4
 },
 "nbformat": 4,
 "nbformat_minor": 2
}
